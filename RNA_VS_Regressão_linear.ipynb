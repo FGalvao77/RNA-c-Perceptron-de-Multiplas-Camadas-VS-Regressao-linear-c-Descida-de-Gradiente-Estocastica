{
  "cells": [
    {
      "cell_type": "markdown",
      "metadata": {
        "id": "view-in-github",
        "colab_type": "text"
      },
      "source": [
        "<a href=\"https://colab.research.google.com/github/FGalvao77/RNA-c-Perceptron-de-Multiplas-Camadas-VS-Regressao-linear-c-Descida-de-Gradiente-Estocastica/blob/main/RNA_VS_Regress%C3%A3o_linear.ipynb\" target=\"_parent\"><img src=\"https://colab.research.google.com/assets/colab-badge.svg\" alt=\"Open In Colab\"/></a>"
      ]
    },
    {
      "cell_type": "markdown",
      "metadata": {
        "id": "FTZWmPpwJo4h"
      },
      "source": [
        "### **RNA c/ _Perceptron de Múltiplas Camadas_ `VS` Regressão linear c/ _Descida de Gradiente Estocástica_**\n",
        "---\n",
        "---"
      ]
    },
    {
      "cell_type": "markdown",
      "metadata": {
        "id": "EpZdSaFi_KaR"
      },
      "source": [
        "Nesse _notebook_ iremos aplicar dois modelos de regressão:\n",
        "- Rede Neural Artificial e \n",
        "- Regressão Linear .\n",
        "\n",
        "De início, iremos utilizar uma variável preditora para avaliar a capacidade de predizer dos modelos.\n",
        "\n",
        "E logo após, iremos utilizar outras variáveis de entrada para novamente aplicar os modelos e avaliá-los e, por fim iremos utilizar uma técnica de otimização dos hiperparâmetros."
      ]
    },
    {
      "cell_type": "markdown",
      "metadata": {
        "id": "dCbdMuWB-goQ"
      },
      "source": [
        "<br>"
      ]
    },
    {
      "cell_type": "code",
      "execution_count": 1,
      "metadata": {
        "id": "oPczaWnOBsDZ"
      },
      "outputs": [],
      "source": [
        "# importando as bibliotecas\n",
        "import pandas as pd                 # modelagem dos dados\n",
        "import numpy as np                  # recursos matemáticos\n",
        "import matplotlib.pyplot as plt     # visualização gráfica\n",
        "import warnings                     # ignorar mensagens de alertas\n",
        "\n",
        "# importando as funções/métodos\n",
        "from seaborn.utils import get_dataset_names                     # visualizar conjunto de dados\n",
        "from seaborn import load_dataset                                # carregar conjunto de dados\n",
        "from sklearn.preprocessing import StandardScaler                # normalização dos dados\n",
        "from sklearn.model_selection import train_test_split as tts     # particionamento dos dados\n",
        "from sklearn.metrics import r2_score                            # métrica de avaliação do modelo\n",
        "from sklearn.linear_model import SGDRegressor                   # modelo de regressão linear\n",
        "from sklearn.neural_network import MLPRegressor                 # modelo de rede neural\n",
        "\n",
        "# configurando o ambiente\n",
        "%matplotlib inline\n",
        "plt.style.use('ggplot')\n",
        "warnings.filterwarnings('ignore') "
      ]
    },
    {
      "cell_type": "code",
      "execution_count": 2,
      "metadata": {
        "colab": {
          "base_uri": "https://localhost:8080/"
        },
        "id": "Bs3V7ALPErK4",
        "outputId": "caf149eb-3424-4cd3-d195-82ac357902a2"
      },
      "outputs": [
        {
          "output_type": "execute_result",
          "data": {
            "text/plain": [
              "['anagrams',\n",
              " 'anscombe',\n",
              " 'attention',\n",
              " 'brain_networks',\n",
              " 'car_crashes',\n",
              " 'diamonds',\n",
              " 'dots',\n",
              " 'exercise',\n",
              " 'flights',\n",
              " 'fmri',\n",
              " 'geyser',\n",
              " 'iris',\n",
              " 'mpg',\n",
              " 'penguins',\n",
              " 'planets',\n",
              " 'taxis',\n",
              " 'tips',\n",
              " 'titanic']"
            ]
          },
          "metadata": {},
          "execution_count": 2
        }
      ],
      "source": [
        "# com a função \"get_dataset_names()\", podemos visualizar os conjuntos de dados presente na biblioteca seaborn\n",
        "datasets = get_dataset_names()\n",
        "datasets"
      ]
    },
    {
      "cell_type": "markdown",
      "metadata": {
        "id": "e4TyE25O_wSB"
      },
      "source": [
        "> Como exemplo prático, iremos utilizar o conjunto de dados `mpg`."
      ]
    },
    {
      "cell_type": "code",
      "execution_count": 3,
      "metadata": {
        "colab": {
          "base_uri": "https://localhost:8080/",
          "height": 206
        },
        "id": "TMeRT3fxErJj",
        "outputId": "f77347f4-5efb-457c-fb76-e71e08b441ab"
      },
      "outputs": [
        {
          "output_type": "execute_result",
          "data": {
            "text/plain": [
              "    mpg  cylinders  displacement  horsepower  weight  acceleration  \\\n",
              "0  18.0          8         307.0       130.0    3504          12.0   \n",
              "1  15.0          8         350.0       165.0    3693          11.5   \n",
              "2  18.0          8         318.0       150.0    3436          11.0   \n",
              "3  16.0          8         304.0       150.0    3433          12.0   \n",
              "4  17.0          8         302.0       140.0    3449          10.5   \n",
              "\n",
              "   model_year origin                       name  \n",
              "0          70    usa  chevrolet chevelle malibu  \n",
              "1          70    usa          buick skylark 320  \n",
              "2          70    usa         plymouth satellite  \n",
              "3          70    usa              amc rebel sst  \n",
              "4          70    usa                ford torino  "
            ],
            "text/html": [
              "\n",
              "  <div id=\"df-d32c5cfe-f457-47eb-a69c-1330e69f3439\">\n",
              "    <div class=\"colab-df-container\">\n",
              "      <div>\n",
              "<style scoped>\n",
              "    .dataframe tbody tr th:only-of-type {\n",
              "        vertical-align: middle;\n",
              "    }\n",
              "\n",
              "    .dataframe tbody tr th {\n",
              "        vertical-align: top;\n",
              "    }\n",
              "\n",
              "    .dataframe thead th {\n",
              "        text-align: right;\n",
              "    }\n",
              "</style>\n",
              "<table border=\"1\" class=\"dataframe\">\n",
              "  <thead>\n",
              "    <tr style=\"text-align: right;\">\n",
              "      <th></th>\n",
              "      <th>mpg</th>\n",
              "      <th>cylinders</th>\n",
              "      <th>displacement</th>\n",
              "      <th>horsepower</th>\n",
              "      <th>weight</th>\n",
              "      <th>acceleration</th>\n",
              "      <th>model_year</th>\n",
              "      <th>origin</th>\n",
              "      <th>name</th>\n",
              "    </tr>\n",
              "  </thead>\n",
              "  <tbody>\n",
              "    <tr>\n",
              "      <th>0</th>\n",
              "      <td>18.0</td>\n",
              "      <td>8</td>\n",
              "      <td>307.0</td>\n",
              "      <td>130.0</td>\n",
              "      <td>3504</td>\n",
              "      <td>12.0</td>\n",
              "      <td>70</td>\n",
              "      <td>usa</td>\n",
              "      <td>chevrolet chevelle malibu</td>\n",
              "    </tr>\n",
              "    <tr>\n",
              "      <th>1</th>\n",
              "      <td>15.0</td>\n",
              "      <td>8</td>\n",
              "      <td>350.0</td>\n",
              "      <td>165.0</td>\n",
              "      <td>3693</td>\n",
              "      <td>11.5</td>\n",
              "      <td>70</td>\n",
              "      <td>usa</td>\n",
              "      <td>buick skylark 320</td>\n",
              "    </tr>\n",
              "    <tr>\n",
              "      <th>2</th>\n",
              "      <td>18.0</td>\n",
              "      <td>8</td>\n",
              "      <td>318.0</td>\n",
              "      <td>150.0</td>\n",
              "      <td>3436</td>\n",
              "      <td>11.0</td>\n",
              "      <td>70</td>\n",
              "      <td>usa</td>\n",
              "      <td>plymouth satellite</td>\n",
              "    </tr>\n",
              "    <tr>\n",
              "      <th>3</th>\n",
              "      <td>16.0</td>\n",
              "      <td>8</td>\n",
              "      <td>304.0</td>\n",
              "      <td>150.0</td>\n",
              "      <td>3433</td>\n",
              "      <td>12.0</td>\n",
              "      <td>70</td>\n",
              "      <td>usa</td>\n",
              "      <td>amc rebel sst</td>\n",
              "    </tr>\n",
              "    <tr>\n",
              "      <th>4</th>\n",
              "      <td>17.0</td>\n",
              "      <td>8</td>\n",
              "      <td>302.0</td>\n",
              "      <td>140.0</td>\n",
              "      <td>3449</td>\n",
              "      <td>10.5</td>\n",
              "      <td>70</td>\n",
              "      <td>usa</td>\n",
              "      <td>ford torino</td>\n",
              "    </tr>\n",
              "  </tbody>\n",
              "</table>\n",
              "</div>\n",
              "      <button class=\"colab-df-convert\" onclick=\"convertToInteractive('df-d32c5cfe-f457-47eb-a69c-1330e69f3439')\"\n",
              "              title=\"Convert this dataframe to an interactive table.\"\n",
              "              style=\"display:none;\">\n",
              "        \n",
              "  <svg xmlns=\"http://www.w3.org/2000/svg\" height=\"24px\"viewBox=\"0 0 24 24\"\n",
              "       width=\"24px\">\n",
              "    <path d=\"M0 0h24v24H0V0z\" fill=\"none\"/>\n",
              "    <path d=\"M18.56 5.44l.94 2.06.94-2.06 2.06-.94-2.06-.94-.94-2.06-.94 2.06-2.06.94zm-11 1L8.5 8.5l.94-2.06 2.06-.94-2.06-.94L8.5 2.5l-.94 2.06-2.06.94zm10 10l.94 2.06.94-2.06 2.06-.94-2.06-.94-.94-2.06-.94 2.06-2.06.94z\"/><path d=\"M17.41 7.96l-1.37-1.37c-.4-.4-.92-.59-1.43-.59-.52 0-1.04.2-1.43.59L10.3 9.45l-7.72 7.72c-.78.78-.78 2.05 0 2.83L4 21.41c.39.39.9.59 1.41.59.51 0 1.02-.2 1.41-.59l7.78-7.78 2.81-2.81c.8-.78.8-2.07 0-2.86zM5.41 20L4 18.59l7.72-7.72 1.47 1.35L5.41 20z\"/>\n",
              "  </svg>\n",
              "      </button>\n",
              "      \n",
              "  <style>\n",
              "    .colab-df-container {\n",
              "      display:flex;\n",
              "      flex-wrap:wrap;\n",
              "      gap: 12px;\n",
              "    }\n",
              "\n",
              "    .colab-df-convert {\n",
              "      background-color: #E8F0FE;\n",
              "      border: none;\n",
              "      border-radius: 50%;\n",
              "      cursor: pointer;\n",
              "      display: none;\n",
              "      fill: #1967D2;\n",
              "      height: 32px;\n",
              "      padding: 0 0 0 0;\n",
              "      width: 32px;\n",
              "    }\n",
              "\n",
              "    .colab-df-convert:hover {\n",
              "      background-color: #E2EBFA;\n",
              "      box-shadow: 0px 1px 2px rgba(60, 64, 67, 0.3), 0px 1px 3px 1px rgba(60, 64, 67, 0.15);\n",
              "      fill: #174EA6;\n",
              "    }\n",
              "\n",
              "    [theme=dark] .colab-df-convert {\n",
              "      background-color: #3B4455;\n",
              "      fill: #D2E3FC;\n",
              "    }\n",
              "\n",
              "    [theme=dark] .colab-df-convert:hover {\n",
              "      background-color: #434B5C;\n",
              "      box-shadow: 0px 1px 3px 1px rgba(0, 0, 0, 0.15);\n",
              "      filter: drop-shadow(0px 1px 2px rgba(0, 0, 0, 0.3));\n",
              "      fill: #FFFFFF;\n",
              "    }\n",
              "  </style>\n",
              "\n",
              "      <script>\n",
              "        const buttonEl =\n",
              "          document.querySelector('#df-d32c5cfe-f457-47eb-a69c-1330e69f3439 button.colab-df-convert');\n",
              "        buttonEl.style.display =\n",
              "          google.colab.kernel.accessAllowed ? 'block' : 'none';\n",
              "\n",
              "        async function convertToInteractive(key) {\n",
              "          const element = document.querySelector('#df-d32c5cfe-f457-47eb-a69c-1330e69f3439');\n",
              "          const dataTable =\n",
              "            await google.colab.kernel.invokeFunction('convertToInteractive',\n",
              "                                                     [key], {});\n",
              "          if (!dataTable) return;\n",
              "\n",
              "          const docLinkHtml = 'Like what you see? Visit the ' +\n",
              "            '<a target=\"_blank\" href=https://colab.research.google.com/notebooks/data_table.ipynb>data table notebook</a>'\n",
              "            + ' to learn more about interactive tables.';\n",
              "          element.innerHTML = '';\n",
              "          dataTable['output_type'] = 'display_data';\n",
              "          await google.colab.output.renderOutput(dataTable, element);\n",
              "          const docLink = document.createElement('div');\n",
              "          docLink.innerHTML = docLinkHtml;\n",
              "          element.appendChild(docLink);\n",
              "        }\n",
              "      </script>\n",
              "    </div>\n",
              "  </div>\n",
              "  "
            ]
          },
          "metadata": {},
          "execution_count": 3
        }
      ],
      "source": [
        "# instanciando o conjunto de dados \"mpg\" na variável \"data\"\n",
        "data = load_dataset('mpg')\n",
        "data.head() # visualizando as 5 primeiras observações do conjunto de dados"
      ]
    },
    {
      "cell_type": "code",
      "execution_count": 4,
      "metadata": {
        "colab": {
          "base_uri": "https://localhost:8080/"
        },
        "id": "h3GCjQqoErDA",
        "outputId": "d26fb92d-b11c-4553-a587-3d22df793a21"
      },
      "outputs": [
        {
          "output_type": "stream",
          "name": "stdout",
          "text": [
            "<class 'pandas.core.frame.DataFrame'>\n",
            "RangeIndex: 398 entries, 0 to 397\n",
            "Data columns (total 9 columns):\n",
            " #   Column        Non-Null Count  Dtype  \n",
            "---  ------        --------------  -----  \n",
            " 0   mpg           398 non-null    float64\n",
            " 1   cylinders     398 non-null    int64  \n",
            " 2   displacement  398 non-null    float64\n",
            " 3   horsepower    392 non-null    float64\n",
            " 4   weight        398 non-null    int64  \n",
            " 5   acceleration  398 non-null    float64\n",
            " 6   model_year    398 non-null    int64  \n",
            " 7   origin        398 non-null    object \n",
            " 8   name          398 non-null    object \n",
            "dtypes: float64(4), int64(3), object(2)\n",
            "memory usage: 28.1+ KB\n"
          ]
        }
      ],
      "source": [
        "# informações gerais\n",
        "data.info()"
      ]
    },
    {
      "cell_type": "markdown",
      "metadata": {
        "id": "XC1GFzXHAr6U"
      },
      "source": [
        "> Nossa variável alvo é a `mpg` _(milhas por galão)_, que se relaciona com os demais atributos.\n",
        "\n",
        "- `cylinders`: cilindros;\n",
        "- `displacement`: deslocamento;\n",
        "- `horsepower`: potência;\n",
        "- `weight`: peso;\n",
        "- `acceleration`: aceleração;\n",
        "- `model_year`: ano do modelo;\n",
        "- `origin`: país de origem;\n",
        "- `name`: nome do carro."
      ]
    },
    {
      "cell_type": "code",
      "execution_count": 5,
      "metadata": {
        "colab": {
          "base_uri": "https://localhost:8080/",
          "height": 300
        },
        "id": "a8yOUED39vif",
        "outputId": "ce223038-2923-487a-d188-c83ab99fff7f"
      },
      "outputs": [
        {
          "output_type": "execute_result",
          "data": {
            "text/plain": [
              "              mpg   cylinders  displacement  horsepower       weight  \\\n",
              "count  398.000000  398.000000    398.000000  392.000000   398.000000   \n",
              "mean    23.514573    5.454774    193.425879  104.469388  2970.424623   \n",
              "std      7.815984    1.701004    104.269838   38.491160   846.841774   \n",
              "min      9.000000    3.000000     68.000000   46.000000  1613.000000   \n",
              "25%     17.500000    4.000000    104.250000   75.000000  2223.750000   \n",
              "50%     23.000000    4.000000    148.500000   93.500000  2803.500000   \n",
              "75%     29.000000    8.000000    262.000000  126.000000  3608.000000   \n",
              "max     46.600000    8.000000    455.000000  230.000000  5140.000000   \n",
              "\n",
              "       acceleration  model_year  \n",
              "count    398.000000  398.000000  \n",
              "mean      15.568090   76.010050  \n",
              "std        2.757689    3.697627  \n",
              "min        8.000000   70.000000  \n",
              "25%       13.825000   73.000000  \n",
              "50%       15.500000   76.000000  \n",
              "75%       17.175000   79.000000  \n",
              "max       24.800000   82.000000  "
            ],
            "text/html": [
              "\n",
              "  <div id=\"df-6ccb6fbf-5006-4fc3-ac94-eae96375e238\">\n",
              "    <div class=\"colab-df-container\">\n",
              "      <div>\n",
              "<style scoped>\n",
              "    .dataframe tbody tr th:only-of-type {\n",
              "        vertical-align: middle;\n",
              "    }\n",
              "\n",
              "    .dataframe tbody tr th {\n",
              "        vertical-align: top;\n",
              "    }\n",
              "\n",
              "    .dataframe thead th {\n",
              "        text-align: right;\n",
              "    }\n",
              "</style>\n",
              "<table border=\"1\" class=\"dataframe\">\n",
              "  <thead>\n",
              "    <tr style=\"text-align: right;\">\n",
              "      <th></th>\n",
              "      <th>mpg</th>\n",
              "      <th>cylinders</th>\n",
              "      <th>displacement</th>\n",
              "      <th>horsepower</th>\n",
              "      <th>weight</th>\n",
              "      <th>acceleration</th>\n",
              "      <th>model_year</th>\n",
              "    </tr>\n",
              "  </thead>\n",
              "  <tbody>\n",
              "    <tr>\n",
              "      <th>count</th>\n",
              "      <td>398.000000</td>\n",
              "      <td>398.000000</td>\n",
              "      <td>398.000000</td>\n",
              "      <td>392.000000</td>\n",
              "      <td>398.000000</td>\n",
              "      <td>398.000000</td>\n",
              "      <td>398.000000</td>\n",
              "    </tr>\n",
              "    <tr>\n",
              "      <th>mean</th>\n",
              "      <td>23.514573</td>\n",
              "      <td>5.454774</td>\n",
              "      <td>193.425879</td>\n",
              "      <td>104.469388</td>\n",
              "      <td>2970.424623</td>\n",
              "      <td>15.568090</td>\n",
              "      <td>76.010050</td>\n",
              "    </tr>\n",
              "    <tr>\n",
              "      <th>std</th>\n",
              "      <td>7.815984</td>\n",
              "      <td>1.701004</td>\n",
              "      <td>104.269838</td>\n",
              "      <td>38.491160</td>\n",
              "      <td>846.841774</td>\n",
              "      <td>2.757689</td>\n",
              "      <td>3.697627</td>\n",
              "    </tr>\n",
              "    <tr>\n",
              "      <th>min</th>\n",
              "      <td>9.000000</td>\n",
              "      <td>3.000000</td>\n",
              "      <td>68.000000</td>\n",
              "      <td>46.000000</td>\n",
              "      <td>1613.000000</td>\n",
              "      <td>8.000000</td>\n",
              "      <td>70.000000</td>\n",
              "    </tr>\n",
              "    <tr>\n",
              "      <th>25%</th>\n",
              "      <td>17.500000</td>\n",
              "      <td>4.000000</td>\n",
              "      <td>104.250000</td>\n",
              "      <td>75.000000</td>\n",
              "      <td>2223.750000</td>\n",
              "      <td>13.825000</td>\n",
              "      <td>73.000000</td>\n",
              "    </tr>\n",
              "    <tr>\n",
              "      <th>50%</th>\n",
              "      <td>23.000000</td>\n",
              "      <td>4.000000</td>\n",
              "      <td>148.500000</td>\n",
              "      <td>93.500000</td>\n",
              "      <td>2803.500000</td>\n",
              "      <td>15.500000</td>\n",
              "      <td>76.000000</td>\n",
              "    </tr>\n",
              "    <tr>\n",
              "      <th>75%</th>\n",
              "      <td>29.000000</td>\n",
              "      <td>8.000000</td>\n",
              "      <td>262.000000</td>\n",
              "      <td>126.000000</td>\n",
              "      <td>3608.000000</td>\n",
              "      <td>17.175000</td>\n",
              "      <td>79.000000</td>\n",
              "    </tr>\n",
              "    <tr>\n",
              "      <th>max</th>\n",
              "      <td>46.600000</td>\n",
              "      <td>8.000000</td>\n",
              "      <td>455.000000</td>\n",
              "      <td>230.000000</td>\n",
              "      <td>5140.000000</td>\n",
              "      <td>24.800000</td>\n",
              "      <td>82.000000</td>\n",
              "    </tr>\n",
              "  </tbody>\n",
              "</table>\n",
              "</div>\n",
              "      <button class=\"colab-df-convert\" onclick=\"convertToInteractive('df-6ccb6fbf-5006-4fc3-ac94-eae96375e238')\"\n",
              "              title=\"Convert this dataframe to an interactive table.\"\n",
              "              style=\"display:none;\">\n",
              "        \n",
              "  <svg xmlns=\"http://www.w3.org/2000/svg\" height=\"24px\"viewBox=\"0 0 24 24\"\n",
              "       width=\"24px\">\n",
              "    <path d=\"M0 0h24v24H0V0z\" fill=\"none\"/>\n",
              "    <path d=\"M18.56 5.44l.94 2.06.94-2.06 2.06-.94-2.06-.94-.94-2.06-.94 2.06-2.06.94zm-11 1L8.5 8.5l.94-2.06 2.06-.94-2.06-.94L8.5 2.5l-.94 2.06-2.06.94zm10 10l.94 2.06.94-2.06 2.06-.94-2.06-.94-.94-2.06-.94 2.06-2.06.94z\"/><path d=\"M17.41 7.96l-1.37-1.37c-.4-.4-.92-.59-1.43-.59-.52 0-1.04.2-1.43.59L10.3 9.45l-7.72 7.72c-.78.78-.78 2.05 0 2.83L4 21.41c.39.39.9.59 1.41.59.51 0 1.02-.2 1.41-.59l7.78-7.78 2.81-2.81c.8-.78.8-2.07 0-2.86zM5.41 20L4 18.59l7.72-7.72 1.47 1.35L5.41 20z\"/>\n",
              "  </svg>\n",
              "      </button>\n",
              "      \n",
              "  <style>\n",
              "    .colab-df-container {\n",
              "      display:flex;\n",
              "      flex-wrap:wrap;\n",
              "      gap: 12px;\n",
              "    }\n",
              "\n",
              "    .colab-df-convert {\n",
              "      background-color: #E8F0FE;\n",
              "      border: none;\n",
              "      border-radius: 50%;\n",
              "      cursor: pointer;\n",
              "      display: none;\n",
              "      fill: #1967D2;\n",
              "      height: 32px;\n",
              "      padding: 0 0 0 0;\n",
              "      width: 32px;\n",
              "    }\n",
              "\n",
              "    .colab-df-convert:hover {\n",
              "      background-color: #E2EBFA;\n",
              "      box-shadow: 0px 1px 2px rgba(60, 64, 67, 0.3), 0px 1px 3px 1px rgba(60, 64, 67, 0.15);\n",
              "      fill: #174EA6;\n",
              "    }\n",
              "\n",
              "    [theme=dark] .colab-df-convert {\n",
              "      background-color: #3B4455;\n",
              "      fill: #D2E3FC;\n",
              "    }\n",
              "\n",
              "    [theme=dark] .colab-df-convert:hover {\n",
              "      background-color: #434B5C;\n",
              "      box-shadow: 0px 1px 3px 1px rgba(0, 0, 0, 0.15);\n",
              "      filter: drop-shadow(0px 1px 2px rgba(0, 0, 0, 0.3));\n",
              "      fill: #FFFFFF;\n",
              "    }\n",
              "  </style>\n",
              "\n",
              "      <script>\n",
              "        const buttonEl =\n",
              "          document.querySelector('#df-6ccb6fbf-5006-4fc3-ac94-eae96375e238 button.colab-df-convert');\n",
              "        buttonEl.style.display =\n",
              "          google.colab.kernel.accessAllowed ? 'block' : 'none';\n",
              "\n",
              "        async function convertToInteractive(key) {\n",
              "          const element = document.querySelector('#df-6ccb6fbf-5006-4fc3-ac94-eae96375e238');\n",
              "          const dataTable =\n",
              "            await google.colab.kernel.invokeFunction('convertToInteractive',\n",
              "                                                     [key], {});\n",
              "          if (!dataTable) return;\n",
              "\n",
              "          const docLinkHtml = 'Like what you see? Visit the ' +\n",
              "            '<a target=\"_blank\" href=https://colab.research.google.com/notebooks/data_table.ipynb>data table notebook</a>'\n",
              "            + ' to learn more about interactive tables.';\n",
              "          element.innerHTML = '';\n",
              "          dataTable['output_type'] = 'display_data';\n",
              "          await google.colab.output.renderOutput(dataTable, element);\n",
              "          const docLink = document.createElement('div');\n",
              "          docLink.innerHTML = docLinkHtml;\n",
              "          element.appendChild(docLink);\n",
              "        }\n",
              "      </script>\n",
              "    </div>\n",
              "  </div>\n",
              "  "
            ]
          },
          "metadata": {},
          "execution_count": 5
        }
      ],
      "source": [
        "# estatística descritiva do conjunto de dados\n",
        "data.describe()"
      ]
    },
    {
      "cell_type": "code",
      "execution_count": 6,
      "metadata": {
        "colab": {
          "base_uri": "https://localhost:8080/"
        },
        "id": "c9e9d0nwXiOp",
        "outputId": "15a8ce28-6507-46ff-9b6f-9111b3c587f6"
      },
      "outputs": [
        {
          "output_type": "execute_result",
          "data": {
            "text/plain": [
              "mpg             0\n",
              "cylinders       0\n",
              "displacement    0\n",
              "horsepower      6\n",
              "weight          0\n",
              "acceleration    0\n",
              "model_year      0\n",
              "origin          0\n",
              "name            0\n",
              "dtype: int64"
            ]
          },
          "metadata": {},
          "execution_count": 6
        }
      ],
      "source": [
        "# visualizando a presença de valores ausentes/nulos\n",
        "data.isna().sum()"
      ]
    },
    {
      "cell_type": "code",
      "execution_count": 7,
      "metadata": {
        "colab": {
          "base_uri": "https://localhost:8080/"
        },
        "id": "czxJ1HAmXnl6",
        "outputId": "49310d3b-e6cf-42d7-f12c-e09521e175c9"
      },
      "outputs": [
        {
          "output_type": "execute_result",
          "data": {
            "text/plain": [
              "1.507537688442211"
            ]
          },
          "metadata": {},
          "execution_count": 7
        }
      ],
      "source": [
        "# calculando a porcentagem de valores ausentes/nulos em relação ao total de observações presente no conjunto de dados\n",
        "(data['horsepower'].isna().sum() / data.shape[0]) * 100"
      ]
    },
    {
      "cell_type": "code",
      "execution_count": 9,
      "metadata": {
        "colab": {
          "base_uri": "https://localhost:8080/"
        },
        "id": "R_nIraPYqS5u",
        "outputId": "ac471a19-e7cf-46d4-d9f1-7712a1f00e8f"
      },
      "outputs": [
        {
          "output_type": "execute_result",
          "data": {
            "text/plain": [
              "104.4694"
            ]
          },
          "metadata": {},
          "execution_count": 9
        }
      ],
      "source": [
        "# visualizando o valor médio da coluna \"horsepower\"\n",
        "horsepower_meam = round(data['horsepower'].mean(), 4)\n",
        "horsepower_meam"
      ]
    },
    {
      "cell_type": "code",
      "execution_count": 10,
      "metadata": {
        "id": "4z1nz59oqOEi"
      },
      "outputs": [],
      "source": [
        "# preenchendo as linhas com valores médio da coluna \"horsepower\"\n",
        "data.fillna(horsepower_meam, inplace=True)"
      ]
    },
    {
      "cell_type": "code",
      "execution_count": 11,
      "metadata": {
        "id": "h3TCDnISXzbh"
      },
      "outputs": [],
      "source": [
        "# data.dropna(inplace=True)"
      ]
    },
    {
      "cell_type": "code",
      "execution_count": 12,
      "metadata": {
        "colab": {
          "base_uri": "https://localhost:8080/"
        },
        "id": "oY0yLbsBX9YL",
        "outputId": "7c964931-33d6-4ee1-f05f-1c2d88dd4e0f"
      },
      "outputs": [
        {
          "output_type": "execute_result",
          "data": {
            "text/plain": [
              "mpg             0\n",
              "cylinders       0\n",
              "displacement    0\n",
              "horsepower      0\n",
              "weight          0\n",
              "acceleration    0\n",
              "model_year      0\n",
              "origin          0\n",
              "name            0\n",
              "dtype: int64"
            ]
          },
          "metadata": {},
          "execution_count": 12
        }
      ],
      "source": [
        "# visualizando os valores ausentes/nulos\n",
        "data.isna().sum()"
      ]
    },
    {
      "cell_type": "code",
      "execution_count": 13,
      "metadata": {
        "colab": {
          "base_uri": "https://localhost:8080/",
          "height": 479
        },
        "id": "FscY56wcErAh",
        "outputId": "185d29c9-898f-4d64-d36a-5d95d549c770"
      },
      "outputs": [
        {
          "output_type": "display_data",
          "data": {
            "text/plain": [
              "<Figure size 792x504 with 1 Axes>"
            ],
            "image/png": "[encoded data removed]"
          },
          "metadata": {}
        }
      ],
      "source": [
        "# visualizando a distribuição dos dados - peso (libras) VS autonomia (mpg)\n",
        "plt.figure(figsize=(11, 7))\n",
        "\n",
        "plt.scatter(data[['weight']], data[['mpg']])\n",
        "plt.title('Relação: peso VS autonomia\\n')\n",
        "plt.xlabel('Peso (libras)')\n",
        "plt.ylabel('Autonomia (mpg)')\n",
        "plt.show()"
      ]
    },
    {
      "cell_type": "code",
      "execution_count": 14,
      "metadata": {
        "id": "p5CHv_47Eq9t"
      },
      "outputs": [],
      "source": [
        "# instanciando a variável explicativa (X) e a resposta (y)\n",
        "X = data[['weight']]        # peso\n",
        "y = data[['mpg']]           # milhas por galão"
      ]
    },
    {
      "cell_type": "code",
      "execution_count": 15,
      "metadata": {
        "id": "c-a65EWWIEpj"
      },
      "outputs": [],
      "source": [
        "# realizando a conversão das variáveis\n",
        "X['weight'] = X['weight'] * 0.453592    # libras para kilogramas\n",
        "y['mpg'] = y['mpg'] * 0.425144          # milhas por galão para kilometros por litro"
      ]
    },
    {
      "cell_type": "code",
      "execution_count": 16,
      "metadata": {
        "colab": {
          "base_uri": "https://localhost:8080/",
          "height": 81
        },
        "id": "squiTUqbIEoo",
        "outputId": "097874c8-56c1-4b59-c267-56dd14d369c1"
      },
      "outputs": [
        {
          "output_type": "execute_result",
          "data": {
            "text/plain": [
              "                  0            1            2            3            4  \\\n",
              "weight  1589.386368  1675.115256  1558.542112  1557.181336  1564.438808   \n",
              "\n",
              "                  5            6            7          8          9  \n",
              "weight  1969.042872  1974.939568  1955.888704  2007.1446  1746.3292  "
            ],
            "text/html": [
              "\n",
              "  <div id=\"df-5834770d-7ec8-4693-a6d5-1f003496858d\">\n",
              "    <div class=\"colab-df-container\">\n",
              "      <div>\n",
              "<style scoped>\n",
              "    .dataframe tbody tr th:only-of-type {\n",
              "        vertical-align: middle;\n",
              "    }\n",
              "\n",
              "    .dataframe tbody tr th {\n",
              "        vertical-align: top;\n",
              "    }\n",
              "\n",
              "    .dataframe thead th {\n",
              "        text-align: right;\n",
              "    }\n",
              "</style>\n",
              "<table border=\"1\" class=\"dataframe\">\n",
              "  <thead>\n",
              "    <tr style=\"text-align: right;\">\n",
              "      <th></th>\n",
              "      <th>0</th>\n",
              "      <th>1</th>\n",
              "      <th>2</th>\n",
              "      <th>3</th>\n",
              "      <th>4</th>\n",
              "      <th>5</th>\n",
              "      <th>6</th>\n",
              "      <th>7</th>\n",
              "      <th>8</th>\n",
              "      <th>9</th>\n",
              "    </tr>\n",
              "  </thead>\n",
              "  <tbody>\n",
              "    <tr>\n",
              "      <th>weight</th>\n",
              "      <td>1589.386368</td>\n",
              "      <td>1675.115256</td>\n",
              "      <td>1558.542112</td>\n",
              "      <td>1557.181336</td>\n",
              "      <td>1564.438808</td>\n",
              "      <td>1969.042872</td>\n",
              "      <td>1974.939568</td>\n",
              "      <td>1955.888704</td>\n",
              "      <td>2007.1446</td>\n",
              "      <td>1746.3292</td>\n",
              "    </tr>\n",
              "  </tbody>\n",
              "</table>\n",
              "</div>\n",
              "      <button class=\"colab-df-convert\" onclick=\"convertToInteractive('df-5834770d-7ec8-4693-a6d5-1f003496858d')\"\n",
              "              title=\"Convert this dataframe to an interactive table.\"\n",
              "              style=\"display:none;\">\n",
              "        \n",
              "  <svg xmlns=\"http://www.w3.org/2000/svg\" height=\"24px\"viewBox=\"0 0 24 24\"\n",
              "       width=\"24px\">\n",
              "    <path d=\"M0 0h24v24H0V0z\" fill=\"none\"/>\n",
              "    <path d=\"M18.56 5.44l.94 2.06.94-2.06 2.06-.94-2.06-.94-.94-2.06-.94 2.06-2.06.94zm-11 1L8.5 8.5l.94-2.06 2.06-.94-2.06-.94L8.5 2.5l-.94 2.06-2.06.94zm10 10l.94 2.06.94-2.06 2.06-.94-2.06-.94-.94-2.06-.94 2.06-2.06.94z\"/><path d=\"M17.41 7.96l-1.37-1.37c-.4-.4-.92-.59-1.43-.59-.52 0-1.04.2-1.43.59L10.3 9.45l-7.72 7.72c-.78.78-.78 2.05 0 2.83L4 21.41c.39.39.9.59 1.41.59.51 0 1.02-.2 1.41-.59l7.78-7.78 2.81-2.81c.8-.78.8-2.07 0-2.86zM5.41 20L4 18.59l7.72-7.72 1.47 1.35L5.41 20z\"/>\n",
              "  </svg>\n",
              "      </button>\n",
              "      \n",
              "  <style>\n",
              "    .colab-df-container {\n",
              "      display:flex;\n",
              "      flex-wrap:wrap;\n",
              "      gap: 12px;\n",
              "    }\n",
              "\n",
              "    .colab-df-convert {\n",
              "      background-color: #E8F0FE;\n",
              "      border: none;\n",
              "      border-radius: 50%;\n",
              "      cursor: pointer;\n",
              "      display: none;\n",
              "      fill: #1967D2;\n",
              "      height: 32px;\n",
              "      padding: 0 0 0 0;\n",
              "      width: 32px;\n",
              "    }\n",
              "\n",
              "    .colab-df-convert:hover {\n",
              "      background-color: #E2EBFA;\n",
              "      box-shadow: 0px 1px 2px rgba(60, 64, 67, 0.3), 0px 1px 3px 1px rgba(60, 64, 67, 0.15);\n",
              "      fill: #174EA6;\n",
              "    }\n",
              "\n",
              "    [theme=dark] .colab-df-convert {\n",
              "      background-color: #3B4455;\n",
              "      fill: #D2E3FC;\n",
              "    }\n",
              "\n",
              "    [theme=dark] .colab-df-convert:hover {\n",
              "      background-color: #434B5C;\n",
              "      box-shadow: 0px 1px 3px 1px rgba(0, 0, 0, 0.15);\n",
              "      filter: drop-shadow(0px 1px 2px rgba(0, 0, 0, 0.3));\n",
              "      fill: #FFFFFF;\n",
              "    }\n",
              "  </style>\n",
              "\n",
              "      <script>\n",
              "        const buttonEl =\n",
              "          document.querySelector('#df-5834770d-7ec8-4693-a6d5-1f003496858d button.colab-df-convert');\n",
              "        buttonEl.style.display =\n",
              "          google.colab.kernel.accessAllowed ? 'block' : 'none';\n",
              "\n",
              "        async function convertToInteractive(key) {\n",
              "          const element = document.querySelector('#df-5834770d-7ec8-4693-a6d5-1f003496858d');\n",
              "          const dataTable =\n",
              "            await google.colab.kernel.invokeFunction('convertToInteractive',\n",
              "                                                     [key], {});\n",
              "          if (!dataTable) return;\n",
              "\n",
              "          const docLinkHtml = 'Like what you see? Visit the ' +\n",
              "            '<a target=\"_blank\" href=https://colab.research.google.com/notebooks/data_table.ipynb>data table notebook</a>'\n",
              "            + ' to learn more about interactive tables.';\n",
              "          element.innerHTML = '';\n",
              "          dataTable['output_type'] = 'display_data';\n",
              "          await google.colab.output.renderOutput(dataTable, element);\n",
              "          const docLink = document.createElement('div');\n",
              "          docLink.innerHTML = docLinkHtml;\n",
              "          element.appendChild(docLink);\n",
              "        }\n",
              "      </script>\n",
              "    </div>\n",
              "  </div>\n",
              "  "
            ]
          },
          "metadata": {},
          "execution_count": 16
        }
      ],
      "source": [
        "# visualizando as 10 primeiras observações da variavel X\n",
        "X.head(10).T"
      ]
    },
    {
      "cell_type": "code",
      "execution_count": 17,
      "metadata": {
        "colab": {
          "base_uri": "https://localhost:8080/",
          "height": 81
        },
        "id": "mCkEOC2EK1ET",
        "outputId": "f8b6b47e-789f-4f25-d7b9-c4e4f22e89e3"
      },
      "outputs": [
        {
          "output_type": "execute_result",
          "data": {
            "text/plain": [
              "            0        1         2         3         4        5         6  \\\n",
              "mpg  7.652592  6.37716  7.652592  6.802304  7.227448  6.37716  5.952016   \n",
              "\n",
              "            7         8        9  \n",
              "mpg  5.952016  5.952016  6.37716  "
            ],
            "text/html": [
              "\n",
              "  <div id=\"df-cd60e4bc-fba2-4fa4-ac23-1f6aa6032ec4\">\n",
              "    <div class=\"colab-df-container\">\n",
              "      <div>\n",
              "<style scoped>\n",
              "    .dataframe tbody tr th:only-of-type {\n",
              "        vertical-align: middle;\n",
              "    }\n",
              "\n",
              "    .dataframe tbody tr th {\n",
              "        vertical-align: top;\n",
              "    }\n",
              "\n",
              "    .dataframe thead th {\n",
              "        text-align: right;\n",
              "    }\n",
              "</style>\n",
              "<table border=\"1\" class=\"dataframe\">\n",
              "  <thead>\n",
              "    <tr style=\"text-align: right;\">\n",
              "      <th></th>\n",
              "      <th>0</th>\n",
              "      <th>1</th>\n",
              "      <th>2</th>\n",
              "      <th>3</th>\n",
              "      <th>4</th>\n",
              "      <th>5</th>\n",
              "      <th>6</th>\n",
              "      <th>7</th>\n",
              "      <th>8</th>\n",
              "      <th>9</th>\n",
              "    </tr>\n",
              "  </thead>\n",
              "  <tbody>\n",
              "    <tr>\n",
              "      <th>mpg</th>\n",
              "      <td>7.652592</td>\n",
              "      <td>6.37716</td>\n",
              "      <td>7.652592</td>\n",
              "      <td>6.802304</td>\n",
              "      <td>7.227448</td>\n",
              "      <td>6.37716</td>\n",
              "      <td>5.952016</td>\n",
              "      <td>5.952016</td>\n",
              "      <td>5.952016</td>\n",
              "      <td>6.37716</td>\n",
              "    </tr>\n",
              "  </tbody>\n",
              "</table>\n",
              "</div>\n",
              "      <button class=\"colab-df-convert\" onclick=\"convertToInteractive('df-cd60e4bc-fba2-4fa4-ac23-1f6aa6032ec4')\"\n",
              "              title=\"Convert this dataframe to an interactive table.\"\n",
              "              style=\"display:none;\">\n",
              "        \n",
              "  <svg xmlns=\"http://www.w3.org/2000/svg\" height=\"24px\"viewBox=\"0 0 24 24\"\n",
              "       width=\"24px\">\n",
              "    <path d=\"M0 0h24v24H0V0z\" fill=\"none\"/>\n",
              "    <path d=\"M18.56 5.44l.94 2.06.94-2.06 2.06-.94-2.06-.94-.94-2.06-.94 2.06-2.06.94zm-11 1L8.5 8.5l.94-2.06 2.06-.94-2.06-.94L8.5 2.5l-.94 2.06-2.06.94zm10 10l.94 2.06.94-2.06 2.06-.94-2.06-.94-.94-2.06-.94 2.06-2.06.94z\"/><path d=\"M17.41 7.96l-1.37-1.37c-.4-.4-.92-.59-1.43-.59-.52 0-1.04.2-1.43.59L10.3 9.45l-7.72 7.72c-.78.78-.78 2.05 0 2.83L4 21.41c.39.39.9.59 1.41.59.51 0 1.02-.2 1.41-.59l7.78-7.78 2.81-2.81c.8-.78.8-2.07 0-2.86zM5.41 20L4 18.59l7.72-7.72 1.47 1.35L5.41 20z\"/>\n",
              "  </svg>\n",
              "      </button>\n",
              "      \n",
              "  <style>\n",
              "    .colab-df-container {\n",
              "      display:flex;\n",
              "      flex-wrap:wrap;\n",
              "      gap: 12px;\n",
              "    }\n",
              "\n",
              "    .colab-df-convert {\n",
              "      background-color: #E8F0FE;\n",
              "      border: none;\n",
              "      border-radius: 50%;\n",
              "      cursor: pointer;\n",
              "      display: none;\n",
              "      fill: #1967D2;\n",
              "      height: 32px;\n",
              "      padding: 0 0 0 0;\n",
              "      width: 32px;\n",
              "    }\n",
              "\n",
              "    .colab-df-convert:hover {\n",
              "      background-color: #E2EBFA;\n",
              "      box-shadow: 0px 1px 2px rgba(60, 64, 67, 0.3), 0px 1px 3px 1px rgba(60, 64, 67, 0.15);\n",
              "      fill: #174EA6;\n",
              "    }\n",
              "\n",
              "    [theme=dark] .colab-df-convert {\n",
              "      background-color: #3B4455;\n",
              "      fill: #D2E3FC;\n",
              "    }\n",
              "\n",
              "    [theme=dark] .colab-df-convert:hover {\n",
              "      background-color: #434B5C;\n",
              "      box-shadow: 0px 1px 3px 1px rgba(0, 0, 0, 0.15);\n",
              "      filter: drop-shadow(0px 1px 2px rgba(0, 0, 0, 0.3));\n",
              "      fill: #FFFFFF;\n",
              "    }\n",
              "  </style>\n",
              "\n",
              "      <script>\n",
              "        const buttonEl =\n",
              "          document.querySelector('#df-cd60e4bc-fba2-4fa4-ac23-1f6aa6032ec4 button.colab-df-convert');\n",
              "        buttonEl.style.display =\n",
              "          google.colab.kernel.accessAllowed ? 'block' : 'none';\n",
              "\n",
              "        async function convertToInteractive(key) {\n",
              "          const element = document.querySelector('#df-cd60e4bc-fba2-4fa4-ac23-1f6aa6032ec4');\n",
              "          const dataTable =\n",
              "            await google.colab.kernel.invokeFunction('convertToInteractive',\n",
              "                                                     [key], {});\n",
              "          if (!dataTable) return;\n",
              "\n",
              "          const docLinkHtml = 'Like what you see? Visit the ' +\n",
              "            '<a target=\"_blank\" href=https://colab.research.google.com/notebooks/data_table.ipynb>data table notebook</a>'\n",
              "            + ' to learn more about interactive tables.';\n",
              "          element.innerHTML = '';\n",
              "          dataTable['output_type'] = 'display_data';\n",
              "          await google.colab.output.renderOutput(dataTable, element);\n",
              "          const docLink = document.createElement('div');\n",
              "          docLink.innerHTML = docLinkHtml;\n",
              "          element.appendChild(docLink);\n",
              "        }\n",
              "      </script>\n",
              "    </div>\n",
              "  </div>\n",
              "  "
            ]
          },
          "metadata": {},
          "execution_count": 17
        }
      ],
      "source": [
        "# visualizando as 10 primeiras observações da variável y\n",
        "y.head(10).T"
      ]
    },
    {
      "cell_type": "code",
      "execution_count": 18,
      "metadata": {
        "colab": {
          "base_uri": "https://localhost:8080/",
          "height": 81
        },
        "id": "AZNw2JTKIEnx",
        "outputId": "b36b61e6-885e-4c09-ccb6-c3cd6957a51b"
      },
      "outputs": [
        {
          "output_type": "execute_result",
          "data": {
            "text/plain": [
              "        count         mean         std         min         25%          50%  \\\n",
              "weight  398.0  1347.360846  384.120654  731.643896  1008.67521  1271.645172   \n",
              "\n",
              "                75%         max  \n",
              "weight  1636.559936  2331.46288  "
            ],
            "text/html": [
              "\n",
              "  <div id=\"df-610ef1a1-df9a-40e9-9133-fdbc8da2b7ad\">\n",
              "    <div class=\"colab-df-container\">\n",
              "      <div>\n",
              "<style scoped>\n",
              "    .dataframe tbody tr th:only-of-type {\n",
              "        vertical-align: middle;\n",
              "    }\n",
              "\n",
              "    .dataframe tbody tr th {\n",
              "        vertical-align: top;\n",
              "    }\n",
              "\n",
              "    .dataframe thead th {\n",
              "        text-align: right;\n",
              "    }\n",
              "</style>\n",
              "<table border=\"1\" class=\"dataframe\">\n",
              "  <thead>\n",
              "    <tr style=\"text-align: right;\">\n",
              "      <th></th>\n",
              "      <th>count</th>\n",
              "      <th>mean</th>\n",
              "      <th>std</th>\n",
              "      <th>min</th>\n",
              "      <th>25%</th>\n",
              "      <th>50%</th>\n",
              "      <th>75%</th>\n",
              "      <th>max</th>\n",
              "    </tr>\n",
              "  </thead>\n",
              "  <tbody>\n",
              "    <tr>\n",
              "      <th>weight</th>\n",
              "      <td>398.0</td>\n",
              "      <td>1347.360846</td>\n",
              "      <td>384.120654</td>\n",
              "      <td>731.643896</td>\n",
              "      <td>1008.67521</td>\n",
              "      <td>1271.645172</td>\n",
              "      <td>1636.559936</td>\n",
              "      <td>2331.46288</td>\n",
              "    </tr>\n",
              "  </tbody>\n",
              "</table>\n",
              "</div>\n",
              "      <button class=\"colab-df-convert\" onclick=\"convertToInteractive('df-610ef1a1-df9a-40e9-9133-fdbc8da2b7ad')\"\n",
              "              title=\"Convert this dataframe to an interactive table.\"\n",
              "              style=\"display:none;\">\n",
              "        \n",
              "  <svg xmlns=\"http://www.w3.org/2000/svg\" height=\"24px\"viewBox=\"0 0 24 24\"\n",
              "       width=\"24px\">\n",
              "    <path d=\"M0 0h24v24H0V0z\" fill=\"none\"/>\n",
              "    <path d=\"M18.56 5.44l.94 2.06.94-2.06 2.06-.94-2.06-.94-.94-2.06-.94 2.06-2.06.94zm-11 1L8.5 8.5l.94-2.06 2.06-.94-2.06-.94L8.5 2.5l-.94 2.06-2.06.94zm10 10l.94 2.06.94-2.06 2.06-.94-2.06-.94-.94-2.06-.94 2.06-2.06.94z\"/><path d=\"M17.41 7.96l-1.37-1.37c-.4-.4-.92-.59-1.43-.59-.52 0-1.04.2-1.43.59L10.3 9.45l-7.72 7.72c-.78.78-.78 2.05 0 2.83L4 21.41c.39.39.9.59 1.41.59.51 0 1.02-.2 1.41-.59l7.78-7.78 2.81-2.81c.8-.78.8-2.07 0-2.86zM5.41 20L4 18.59l7.72-7.72 1.47 1.35L5.41 20z\"/>\n",
              "  </svg>\n",
              "      </button>\n",
              "      \n",
              "  <style>\n",
              "    .colab-df-container {\n",
              "      display:flex;\n",
              "      flex-wrap:wrap;\n",
              "      gap: 12px;\n",
              "    }\n",
              "\n",
              "    .colab-df-convert {\n",
              "      background-color: #E8F0FE;\n",
              "      border: none;\n",
              "      border-radius: 50%;\n",
              "      cursor: pointer;\n",
              "      display: none;\n",
              "      fill: #1967D2;\n",
              "      height: 32px;\n",
              "      padding: 0 0 0 0;\n",
              "      width: 32px;\n",
              "    }\n",
              "\n",
              "    .colab-df-convert:hover {\n",
              "      background-color: #E2EBFA;\n",
              "      box-shadow: 0px 1px 2px rgba(60, 64, 67, 0.3), 0px 1px 3px 1px rgba(60, 64, 67, 0.15);\n",
              "      fill: #174EA6;\n",
              "    }\n",
              "\n",
              "    [theme=dark] .colab-df-convert {\n",
              "      background-color: #3B4455;\n",
              "      fill: #D2E3FC;\n",
              "    }\n",
              "\n",
              "    [theme=dark] .colab-df-convert:hover {\n",
              "      background-color: #434B5C;\n",
              "      box-shadow: 0px 1px 3px 1px rgba(0, 0, 0, 0.15);\n",
              "      filter: drop-shadow(0px 1px 2px rgba(0, 0, 0, 0.3));\n",
              "      fill: #FFFFFF;\n",
              "    }\n",
              "  </style>\n",
              "\n",
              "      <script>\n",
              "        const buttonEl =\n",
              "          document.querySelector('#df-610ef1a1-df9a-40e9-9133-fdbc8da2b7ad button.colab-df-convert');\n",
              "        buttonEl.style.display =\n",
              "          google.colab.kernel.accessAllowed ? 'block' : 'none';\n",
              "\n",
              "        async function convertToInteractive(key) {\n",
              "          const element = document.querySelector('#df-610ef1a1-df9a-40e9-9133-fdbc8da2b7ad');\n",
              "          const dataTable =\n",
              "            await google.colab.kernel.invokeFunction('convertToInteractive',\n",
              "                                                     [key], {});\n",
              "          if (!dataTable) return;\n",
              "\n",
              "          const docLinkHtml = 'Like what you see? Visit the ' +\n",
              "            '<a target=\"_blank\" href=https://colab.research.google.com/notebooks/data_table.ipynb>data table notebook</a>'\n",
              "            + ' to learn more about interactive tables.';\n",
              "          element.innerHTML = '';\n",
              "          dataTable['output_type'] = 'display_data';\n",
              "          await google.colab.output.renderOutput(dataTable, element);\n",
              "          const docLink = document.createElement('div');\n",
              "          docLink.innerHTML = docLinkHtml;\n",
              "          element.appendChild(docLink);\n",
              "        }\n",
              "      </script>\n",
              "    </div>\n",
              "  </div>\n",
              "  "
            ]
          },
          "metadata": {},
          "execution_count": 18
        }
      ],
      "source": [
        "# estatística descritiva da variável X\n",
        "X.describe().T"
      ]
    },
    {
      "cell_type": "code",
      "execution_count": 19,
      "metadata": {
        "id": "MERYrg7ZIEl4"
      },
      "outputs": [],
      "source": [
        "# instanciando objeto para realizar o escalonamento dos dados\n",
        "scaling = StandardScaler()\n",
        "\n",
        "scaling.fit(X)                          # treinando o objeto\n",
        "X_normal = scaling.fit_transform(X)     # realizando o escalonamento dos dados"
      ]
    },
    {
      "cell_type": "code",
      "execution_count": 20,
      "metadata": {
        "colab": {
          "base_uri": "https://localhost:8080/",
          "height": 81
        },
        "id": "hPyGBa3HPBJl",
        "outputId": "06a3aabd-4f38-4f88-b325-3591b6148e7c"
      },
      "outputs": [
        {
          "output_type": "execute_result",
          "data": {
            "text/plain": [
              "   count          mean       std       min       25%       50%       75%  \\\n",
              "0  398.0  1.249698e-16  1.001259 -1.604943 -0.882827 -0.197362  0.753834   \n",
              "\n",
              "        max  \n",
              "0  2.565185  "
            ],
            "text/html": [
              "\n",
              "  <div id=\"df-b2b04ff6-9a61-4910-a0b0-a8fecf4cca8d\">\n",
              "    <div class=\"colab-df-container\">\n",
              "      <div>\n",
              "<style scoped>\n",
              "    .dataframe tbody tr th:only-of-type {\n",
              "        vertical-align: middle;\n",
              "    }\n",
              "\n",
              "    .dataframe tbody tr th {\n",
              "        vertical-align: top;\n",
              "    }\n",
              "\n",
              "    .dataframe thead th {\n",
              "        text-align: right;\n",
              "    }\n",
              "</style>\n",
              "<table border=\"1\" class=\"dataframe\">\n",
              "  <thead>\n",
              "    <tr style=\"text-align: right;\">\n",
              "      <th></th>\n",
              "      <th>count</th>\n",
              "      <th>mean</th>\n",
              "      <th>std</th>\n",
              "      <th>min</th>\n",
              "      <th>25%</th>\n",
              "      <th>50%</th>\n",
              "      <th>75%</th>\n",
              "      <th>max</th>\n",
              "    </tr>\n",
              "  </thead>\n",
              "  <tbody>\n",
              "    <tr>\n",
              "      <th>0</th>\n",
              "      <td>398.0</td>\n",
              "      <td>1.249698e-16</td>\n",
              "      <td>1.001259</td>\n",
              "      <td>-1.604943</td>\n",
              "      <td>-0.882827</td>\n",
              "      <td>-0.197362</td>\n",
              "      <td>0.753834</td>\n",
              "      <td>2.565185</td>\n",
              "    </tr>\n",
              "  </tbody>\n",
              "</table>\n",
              "</div>\n",
              "      <button class=\"colab-df-convert\" onclick=\"convertToInteractive('df-b2b04ff6-9a61-4910-a0b0-a8fecf4cca8d')\"\n",
              "              title=\"Convert this dataframe to an interactive table.\"\n",
              "              style=\"display:none;\">\n",
              "        \n",
              "  <svg xmlns=\"http://www.w3.org/2000/svg\" height=\"24px\"viewBox=\"0 0 24 24\"\n",
              "       width=\"24px\">\n",
              "    <path d=\"M0 0h24v24H0V0z\" fill=\"none\"/>\n",
              "    <path d=\"M18.56 5.44l.94 2.06.94-2.06 2.06-.94-2.06-.94-.94-2.06-.94 2.06-2.06.94zm-11 1L8.5 8.5l.94-2.06 2.06-.94-2.06-.94L8.5 2.5l-.94 2.06-2.06.94zm10 10l.94 2.06.94-2.06 2.06-.94-2.06-.94-.94-2.06-.94 2.06-2.06.94z\"/><path d=\"M17.41 7.96l-1.37-1.37c-.4-.4-.92-.59-1.43-.59-.52 0-1.04.2-1.43.59L10.3 9.45l-7.72 7.72c-.78.78-.78 2.05 0 2.83L4 21.41c.39.39.9.59 1.41.59.51 0 1.02-.2 1.41-.59l7.78-7.78 2.81-2.81c.8-.78.8-2.07 0-2.86zM5.41 20L4 18.59l7.72-7.72 1.47 1.35L5.41 20z\"/>\n",
              "  </svg>\n",
              "      </button>\n",
              "      \n",
              "  <style>\n",
              "    .colab-df-container {\n",
              "      display:flex;\n",
              "      flex-wrap:wrap;\n",
              "      gap: 12px;\n",
              "    }\n",
              "\n",
              "    .colab-df-convert {\n",
              "      background-color: #E8F0FE;\n",
              "      border: none;\n",
              "      border-radius: 50%;\n",
              "      cursor: pointer;\n",
              "      display: none;\n",
              "      fill: #1967D2;\n",
              "      height: 32px;\n",
              "      padding: 0 0 0 0;\n",
              "      width: 32px;\n",
              "    }\n",
              "\n",
              "    .colab-df-convert:hover {\n",
              "      background-color: #E2EBFA;\n",
              "      box-shadow: 0px 1px 2px rgba(60, 64, 67, 0.3), 0px 1px 3px 1px rgba(60, 64, 67, 0.15);\n",
              "      fill: #174EA6;\n",
              "    }\n",
              "\n",
              "    [theme=dark] .colab-df-convert {\n",
              "      background-color: #3B4455;\n",
              "      fill: #D2E3FC;\n",
              "    }\n",
              "\n",
              "    [theme=dark] .colab-df-convert:hover {\n",
              "      background-color: #434B5C;\n",
              "      box-shadow: 0px 1px 3px 1px rgba(0, 0, 0, 0.15);\n",
              "      filter: drop-shadow(0px 1px 2px rgba(0, 0, 0, 0.3));\n",
              "      fill: #FFFFFF;\n",
              "    }\n",
              "  </style>\n",
              "\n",
              "      <script>\n",
              "        const buttonEl =\n",
              "          document.querySelector('#df-b2b04ff6-9a61-4910-a0b0-a8fecf4cca8d button.colab-df-convert');\n",
              "        buttonEl.style.display =\n",
              "          google.colab.kernel.accessAllowed ? 'block' : 'none';\n",
              "\n",
              "        async function convertToInteractive(key) {\n",
              "          const element = document.querySelector('#df-b2b04ff6-9a61-4910-a0b0-a8fecf4cca8d');\n",
              "          const dataTable =\n",
              "            await google.colab.kernel.invokeFunction('convertToInteractive',\n",
              "                                                     [key], {});\n",
              "          if (!dataTable) return;\n",
              "\n",
              "          const docLinkHtml = 'Like what you see? Visit the ' +\n",
              "            '<a target=\"_blank\" href=https://colab.research.google.com/notebooks/data_table.ipynb>data table notebook</a>'\n",
              "            + ' to learn more about interactive tables.';\n",
              "          element.innerHTML = '';\n",
              "          dataTable['output_type'] = 'display_data';\n",
              "          await google.colab.output.renderOutput(dataTable, element);\n",
              "          const docLink = document.createElement('div');\n",
              "          docLink.innerHTML = docLinkHtml;\n",
              "          element.appendChild(docLink);\n",
              "        }\n",
              "      </script>\n",
              "    </div>\n",
              "  </div>\n",
              "  "
            ]
          },
          "metadata": {},
          "execution_count": 20
        }
      ],
      "source": [
        "# visualizando a estatística descritiva após o escalonamento\n",
        "pd.DataFrame(X_normal).describe().T"
      ]
    },
    {
      "cell_type": "code",
      "execution_count": 21,
      "metadata": {
        "id": "Q_n6zn9oIEW5"
      },
      "outputs": [],
      "source": [
        "# instanciando os dados de treino e teste\n",
        "Xtrain_normal, Xtest_normal, yTrain, yTest = tts(\n",
        "    X_normal,           # variável explicativa com dados normalizados\n",
        "    y,                  # variável resposta\n",
        "    test_size=0.4,      # 40% para teste do modelo\n",
        "    random_state=1527   # taxa de aleatoriedade\n",
        ")"
      ]
    },
    {
      "cell_type": "code",
      "execution_count": 22,
      "metadata": {
        "colab": {
          "base_uri": "https://localhost:8080/"
        },
        "id": "J5XGCrasLCeW",
        "outputId": "03483917-ebd3-43ed-fa87-eaceaf12e5b0"
      },
      "outputs": [
        {
          "output_type": "execute_result",
          "data": {
            "text/plain": [
              "((238, 1), (160, 1), (238, 1), (160, 1))"
            ]
          },
          "metadata": {},
          "execution_count": 22
        }
      ],
      "source": [
        "# dimensão dos objetos - linhas e colunas\n",
        "Xtrain_normal.shape, Xtest_normal.shape, yTrain.shape, yTest.shape"
      ]
    },
    {
      "cell_type": "code",
      "execution_count": 25,
      "metadata": {
        "colab": {
          "base_uri": "https://localhost:8080/"
        },
        "id": "YPPPX25rLCbg",
        "outputId": "7633d792-7c03-4c08-ba87-9016f2df2385"
      },
      "outputs": [
        {
          "output_type": "execute_result",
          "data": {
            "text/plain": [
              "MLPRegressor(hidden_layer_sizes=(10, 5), learning_rate_init=0.01, max_iter=2000,\n",
              "             random_state=1527, solver='sgd', tol=1e-07, verbose=2)"
            ]
          },
          "metadata": {},
          "execution_count": 25
        }
      ],
      "source": [
        "# instanciando modelo de rede neural artificial: multi-layer perceptron\n",
        "model_RNA = MLPRegressor(\n",
        "    hidden_layer_sizes=(10, 5),     # tamanho das camadas ocultas: 1a camada com 10 neurônios | 2a camada com 5\n",
        "    max_iter=2_000,                 # quantidade de iterações do modelo: 2 mil épocas\n",
        "    tol=1e-7,                       # tolerância de  (0.1e-6 = 0.0000001)\n",
        "    learning_rate_init=0.01,        # taxa de aprendizagem inicial\n",
        "    solver='sgd',                   # função de resolução: sgd: stochastic gradient descent | descida de gradiente estocástica \n",
        "    activation='relu',              # função de ativação: relu\n",
        "    learning_rate='constant',       # taxa de aprendizagem: constante\n",
        "    verbose=2,                      # exibindo as iterações dos modelo\n",
        "    random_state=1527               # taxa de aleatoriedade\n",
        ")\n",
        "\n",
        "# visualizando o modelo\n",
        "model_RNA"
      ]
    },
    {
      "cell_type": "code",
      "execution_count": 26,
      "metadata": {
        "colab": {
          "base_uri": "https://localhost:8080/"
        },
        "id": "FX4aQOHMLCY1",
        "outputId": "01bf334b-f2fb-4e36-b29a-e9b5973f7882"
      },
      "outputs": [
        {
          "output_type": "stream",
          "name": "stdout",
          "text": [
            "Iteration 1, loss = 52.99113427\n",
            "Iteration 2, loss = 30.66689746\n",
            "Iteration 3, loss = 4.33893815\n",
            "Iteration 4, loss = 2.50854826\n",
            "Iteration 5, loss = 1.83833056\n",
            "Iteration 6, loss = 1.84469742\n",
            "Iteration 7, loss = 2.11388973\n",
            "Iteration 8, loss = 1.88378149\n",
            "Iteration 9, loss = 1.79226328\n",
            "Iteration 10, loss = 1.81078005\n",
            "Iteration 11, loss = 1.75026514\n",
            "Iteration 12, loss = 1.73519131\n",
            "Iteration 13, loss = 1.72790597\n",
            "Iteration 14, loss = 1.75624519\n",
            "Iteration 15, loss = 1.78092479\n",
            "Iteration 16, loss = 1.71689103\n",
            "Iteration 17, loss = 1.74076657\n",
            "Iteration 18, loss = 1.73229499\n",
            "Iteration 19, loss = 1.73045488\n",
            "Iteration 20, loss = 1.87181204\n",
            "Iteration 21, loss = 1.68797268\n",
            "Iteration 22, loss = 1.96114394\n",
            "Iteration 23, loss = 1.77022428\n",
            "Iteration 24, loss = 1.69510888\n",
            "Iteration 25, loss = 1.68806771\n",
            "Iteration 26, loss = 1.70178091\n",
            "Iteration 27, loss = 1.69473794\n",
            "Iteration 28, loss = 1.69755316\n",
            "Iteration 29, loss = 1.67872276\n",
            "Iteration 30, loss = 1.69944653\n",
            "Iteration 31, loss = 1.76775229\n",
            "Iteration 32, loss = 1.67558266\n",
            "Iteration 33, loss = 1.73496713\n",
            "Iteration 34, loss = 1.66996128\n",
            "Iteration 35, loss = 1.78025077\n",
            "Iteration 36, loss = 1.68539420\n",
            "Iteration 37, loss = 1.67263892\n",
            "Iteration 38, loss = 1.67317171\n",
            "Iteration 39, loss = 1.67975257\n",
            "Iteration 40, loss = 1.67123127\n",
            "Iteration 41, loss = 1.71067857\n",
            "Iteration 42, loss = 1.66875716\n",
            "Iteration 43, loss = 1.76016229\n",
            "Iteration 44, loss = 1.72892540\n",
            "Iteration 45, loss = 1.68108641\n",
            "Iteration 46, loss = 1.67766053\n",
            "Iteration 47, loss = 1.73133022\n",
            "Iteration 48, loss = 1.83654052\n",
            "Iteration 49, loss = 1.68175195\n",
            "Iteration 50, loss = 1.66869202\n",
            "Iteration 51, loss = 1.67467817\n",
            "Iteration 52, loss = 1.70980120\n",
            "Iteration 53, loss = 1.66893211\n",
            "Iteration 54, loss = 1.72121538\n",
            "Iteration 55, loss = 1.69475370\n",
            "Iteration 56, loss = 1.68042265\n",
            "Iteration 57, loss = 1.67510045\n",
            "Iteration 58, loss = 1.68820883\n",
            "Iteration 59, loss = 1.69387642\n",
            "Iteration 60, loss = 1.70431153\n",
            "Iteration 61, loss = 1.67063623\n",
            "Training loss did not improve more than tol=0.000000 for 10 consecutive epochs. Stopping.\n"
          ]
        },
        {
          "output_type": "execute_result",
          "data": {
            "text/plain": [
              "MLPRegressor(hidden_layer_sizes=(10, 5), learning_rate_init=0.01, max_iter=2000,\n",
              "             random_state=1527, solver='sgd', tol=1e-07, verbose=2)"
            ]
          },
          "metadata": {},
          "execution_count": 26
        }
      ],
      "source": [
        "# treinando o modelo rna\n",
        "model_RNA.fit(Xtrain_normal, yTrain)"
      ]
    },
    {
      "cell_type": "code",
      "execution_count": 27,
      "metadata": {
        "colab": {
          "base_uri": "https://localhost:8080/"
        },
        "id": "C3BkGAoALCWL",
        "outputId": "b8b7b790-5cb0-49e3-80a5-ac7ac6ed4223"
      },
      "outputs": [
        {
          "output_type": "execute_result",
          "data": {
            "text/plain": [
              "SGDRegressor(learning_rate='constant', max_iter=2000, random_state=1527,\n",
              "             tol=1e-07, verbose=2)"
            ]
          },
          "metadata": {},
          "execution_count": 27
        }
      ],
      "source": [
        "# instanciando modelo de regressão linear com SGD (Stochastic Gradient Descent | Descida de Gradiente Estocástica\n",
        "model_LREG = SGDRegressor(\n",
        "    max_iter=2_000,                 # quantidade de iterações do modelo: 2 mil épocas\n",
        "    tol=1e-7,                       # tolerância de  (0.1e-6 = 0.0000001)\n",
        "    eta0=0.01,                      # taxa de aprendizagem inicial\n",
        "    learning_rate='constant',       # taxa de aprendizagem: constante\n",
        "    verbose=2,                      # exibindo as iterações dos modelo\n",
        "    random_state=1527               # taxa de aleatoriedade\n",
        ")\n",
        "\n",
        "# visualizando o modelo\n",
        "model_LREG"
      ]
    },
    {
      "cell_type": "code",
      "execution_count": 28,
      "metadata": {
        "colab": {
          "base_uri": "https://localhost:8080/"
        },
        "id": "UFEhjTDdLCTl",
        "outputId": "68b86826-3be5-49b8-9488-46b8f96c2cca"
      },
      "outputs": [
        {
          "output_type": "stream",
          "name": "stdout",
          "text": [
            "-- Epoch 1\n",
            "Norm: 2.70, NNZs: 1, Bias: 9.173028, T: 238, Avg. loss: 13.143783\n",
            "Total training time: 0.00 seconds.\n",
            "-- Epoch 2\n",
            "Norm: 2.93, NNZs: 1, Bias: 10.025376, T: 476, Avg. loss: 1.862081\n",
            "Total training time: 0.00 seconds.\n",
            "-- Epoch 3\n",
            "Norm: 2.93, NNZs: 1, Bias: 10.032147, T: 714, Avg. loss: 1.798103\n",
            "Total training time: 0.00 seconds.\n",
            "-- Epoch 4\n",
            "Norm: 2.91, NNZs: 1, Bias: 9.990732, T: 952, Avg. loss: 1.796722\n",
            "Total training time: 0.00 seconds.\n",
            "-- Epoch 5\n",
            "Norm: 2.91, NNZs: 1, Bias: 9.949146, T: 1190, Avg. loss: 1.796613\n",
            "Total training time: 0.00 seconds.\n",
            "-- Epoch 6\n",
            "Norm: 2.88, NNZs: 1, Bias: 10.002688, T: 1428, Avg. loss: 1.794617\n",
            "Total training time: 0.00 seconds.\n",
            "-- Epoch 7\n",
            "Norm: 2.99, NNZs: 1, Bias: 10.089651, T: 1666, Avg. loss: 1.792227\n",
            "Total training time: 0.00 seconds.\n",
            "-- Epoch 8\n",
            "Norm: 2.88, NNZs: 1, Bias: 9.958970, T: 1904, Avg. loss: 1.795672\n",
            "Total training time: 0.00 seconds.\n",
            "-- Epoch 9\n",
            "Norm: 2.84, NNZs: 1, Bias: 9.869451, T: 2142, Avg. loss: 1.790698\n",
            "Total training time: 0.00 seconds.\n",
            "-- Epoch 10\n",
            "Norm: 3.04, NNZs: 1, Bias: 10.032376, T: 2380, Avg. loss: 1.791931\n",
            "Total training time: 0.00 seconds.\n",
            "-- Epoch 11\n",
            "Norm: 2.91, NNZs: 1, Bias: 10.038810, T: 2618, Avg. loss: 1.798017\n",
            "Total training time: 0.00 seconds.\n",
            "-- Epoch 12\n",
            "Norm: 2.91, NNZs: 1, Bias: 9.995946, T: 2856, Avg. loss: 1.798733\n",
            "Total training time: 0.00 seconds.\n",
            "-- Epoch 13\n",
            "Norm: 2.88, NNZs: 1, Bias: 10.022045, T: 3094, Avg. loss: 1.795783\n",
            "Total training time: 0.00 seconds.\n",
            "-- Epoch 14\n",
            "Norm: 2.96, NNZs: 1, Bias: 9.999852, T: 3332, Avg. loss: 1.791007\n",
            "Total training time: 0.00 seconds.\n",
            "Convergence after 14 epochs took 0.00 seconds\n"
          ]
        },
        {
          "output_type": "execute_result",
          "data": {
            "text/plain": [
              "SGDRegressor(learning_rate='constant', max_iter=2000, random_state=1527,\n",
              "             tol=1e-07, verbose=2)"
            ]
          },
          "metadata": {},
          "execution_count": 28
        }
      ],
      "source": [
        "# treinando o modelo\n",
        "model_LREG.fit(Xtrain_normal, yTrain)"
      ]
    },
    {
      "cell_type": "code",
      "execution_count": 29,
      "metadata": {
        "colab": {
          "base_uri": "https://localhost:8080/"
        },
        "id": "C7S6wAqdLAnQ",
        "outputId": "5e3a026f-f684-49f2-a401-e77c3a0fbbe0"
      },
      "outputs": [
        {
          "output_type": "stream",
          "name": "stdout",
          "text": [
            "\t\t\t\tPrediction\n",
            "========================================================================\n",
            "\n",
            "yPred_RNA:\n",
            "[11.06394705 13.96485996 13.37440866  5.89176705  5.04260925 12.89092318\n",
            "  6.63346819 12.56146847  7.01062354  7.35450048 10.29533381  9.35535381\n",
            "  5.56029889 13.01928216  9.84198062  8.35273211  9.01845832 11.5559898\n",
            " 12.69410608  9.72136372  7.59854217 13.80227192 12.43310949 12.00524623\n",
            "  6.93297391]\n",
            "\n",
            "yPred_LREG:\n",
            "[11.24318115 13.6149284  13.13218339  5.42575391  4.11044865 12.73689218\n",
            "  6.5556571  12.46753445  7.15034298  7.69255659 10.61351374  9.82293133\n",
            "  4.92201998 12.84183675 10.23221515  9.02185446  9.53958099 11.64546867\n",
            " 12.57597717 10.13076873  8.07735334 13.48199862 12.36258988 12.01277466\n",
            "  7.02790765]\n"
          ]
        }
      ],
      "source": [
        "# realizando as predições com os modelos e visualizando os resultados\n",
        "yPred_RNA = model_RNA.predict(Xtest_normal)\n",
        "yPred_LREG = model_LREG.predict(Xtest_normal)\n",
        "\n",
        "print(\n",
        "    '\\t\\t\\t\\tPrediction\\n'\n",
        "    '========================================================================\\n\\n'\n",
        "    f'yPred_RNA:\\n{yPred_RNA[:25]}',\n",
        "    f'yPred_LREG:\\n{yPred_LREG[:25]}',\n",
        "    sep='\\n\\n'\n",
        ")"
      ]
    },
    {
      "cell_type": "code",
      "execution_count": 30,
      "metadata": {
        "colab": {
          "base_uri": "https://localhost:8080/"
        },
        "id": "L1KnKmcdLAhY",
        "outputId": "87e6e3ef-279f-4f58-9121-9ad37d8d539e"
      },
      "outputs": [
        {
          "output_type": "stream",
          "name": "stdout",
          "text": [
            "\tR2 score\n",
            "============================\n",
            "R2 MLP: 0.7078026259006416 \n",
            "R2 LREG: 0.6724373977196553\n"
          ]
        }
      ],
      "source": [
        "# calculando e visualizando o R2 dos modelos\n",
        "r2_RNA = r2_score(yTest, yPred_RNA)\n",
        "r2_LREG = r2_score(yTest, yPred_LREG)\n",
        "\n",
        "print(\n",
        "    '\\tR2 score\\n'\n",
        "    '============================\\n'\n",
        "    f'R2 MLP: {r2_RNA}',\n",
        "    f'\\nR2 LREG: {r2_LREG}'\n",
        ")"
      ]
    },
    {
      "cell_type": "code",
      "execution_count": 31,
      "metadata": {
        "colab": {
          "base_uri": "https://localhost:8080/",
          "height": 479
        },
        "id": "r9E9S9GHLAZl",
        "outputId": "46eefce3-c5e9-4f9d-cade-87f3b303607f"
      },
      "outputs": [
        {
          "output_type": "display_data",
          "data": {
            "text/plain": [
              "<Figure size 792x504 with 1 Axes>"
            ],
            "image/png": "[encoded data removed]"
          },
          "metadata": {}
        }
      ],
      "source": [
        "# realizando a re-transformação dos dados\n",
        "Xtest = scaling.inverse_transform(Xtest_normal)\n",
        "\n",
        "# plotando o gráfico de dispersão\n",
        "plt.figure(figsize=(11, 7))\n",
        "\n",
        "plt.scatter(Xtest, yTest, alpha=0.5, label='real data')\n",
        "plt.scatter(Xtest, yPred_RNA, alpha=0.5, label='ann')\n",
        "plt.scatter(Xtest, yPred_LREG, alpha=0.5, label='linear regression')\n",
        "plt.xlabel('peso (kg)')\n",
        "plt.ylabel('autonomia (km/l)')\n",
        "plt.title('Comparação entre os modelos VS dados reais\\n')\n",
        "plt.legend(loc=1)\n",
        "plt.show()"
      ]
    },
    {
      "cell_type": "code",
      "execution_count": 32,
      "metadata": {
        "id": "m7rH5wNTLAUg"
      },
      "outputs": [],
      "source": [
        "# realizando predição com o modelo com um dados fictício\n",
        "X_future = np.array([[1_250]])\n",
        "X_futureNorm = scaling.transform(X_future.T) # escalando o dado"
      ]
    },
    {
      "cell_type": "code",
      "execution_count": 33,
      "metadata": {
        "colab": {
          "base_uri": "https://localhost:8080/"
        },
        "id": "RD9Db4fHLARa",
        "outputId": "7066e297-ac18-4121-f5b7-aa0a93c1d9d0"
      },
      "outputs": [
        {
          "output_type": "stream",
          "name": "stdout",
          "text": [
            "ANN: [10.46159891] \n",
            "LReg: [10.75070944]\n"
          ]
        }
      ],
      "source": [
        "# realizando as predições com os modelos e visualizando os resultados\n",
        "yPred_RNA_future = model_RNA.predict(X_futureNorm)\n",
        "yPred_LREG_future = model_LREG.predict(X_futureNorm)\n",
        "\n",
        "print(\n",
        "    f'ANN: {yPred_RNA_future}',\n",
        "    f'\\nLReg: {yPred_LREG_future}'\n",
        ")"
      ]
    },
    {
      "cell_type": "code",
      "execution_count": 34,
      "metadata": {
        "colab": {
          "base_uri": "https://localhost:8080/",
          "height": 479
        },
        "id": "aXRIH95dRVch",
        "outputId": "1a1b43f4-0935-4020-fa27-d5ad996ffb40"
      },
      "outputs": [
        {
          "output_type": "display_data",
          "data": {
            "text/plain": [
              "<Figure size 792x504 with 1 Axes>"
            ],
            "image/png": "[encoded data removed]"
          },
          "metadata": {}
        }
      ],
      "source": [
        "# realizando a plot da predição do dado fictício\n",
        "plt.figure(figsize=(11, 7))\n",
        "\n",
        "plt.scatter(X, y, label='real data')\n",
        "plt.scatter(X_future, yPred_RNA_future, label='ann prediction')\n",
        "plt.scatter(X_future, yPred_LREG_future, label='linear regression prediction')\n",
        "plt.xlabel('peso (kg)')\n",
        "plt.ylabel('autonomia (km/l)')\n",
        "plt.title('Predição dos modelos\\n')\n",
        "plt.legend(loc=1)\n",
        "plt.show();"
      ]
    },
    {
      "cell_type": "markdown",
      "metadata": {
        "id": "KeSAju2X-zzX"
      },
      "source": [
        "#### **Instanciando novas variáveis de entrada**"
      ]
    },
    {
      "cell_type": "code",
      "execution_count": 35,
      "metadata": {
        "colab": {
          "base_uri": "https://localhost:8080/"
        },
        "id": "hh6wvsEOUoBW",
        "outputId": "08a8fcf2-71fa-4511-ee36-5017cafb4b24"
      },
      "outputs": [
        {
          "output_type": "execute_result",
          "data": {
            "text/plain": [
              "Index(['mpg', 'cylinders', 'displacement', 'horsepower', 'weight',\n",
              "       'acceleration', 'model_year', 'origin', 'name'],\n",
              "      dtype='object')"
            ]
          },
          "metadata": {},
          "execution_count": 35
        }
      ],
      "source": [
        "# visualizando o nome dos atributos presente no conjunto de dados\n",
        "data.columns"
      ]
    },
    {
      "cell_type": "code",
      "execution_count": 36,
      "metadata": {
        "colab": {
          "base_uri": "https://localhost:8080/"
        },
        "id": "q7X9aoIoRVZt",
        "outputId": "cce32d72-d4a0-46d3-9a66-68233b1a551e"
      },
      "outputs": [
        {
          "output_type": "execute_result",
          "data": {
            "text/plain": [
              "Index(['cylinders', 'displacement', 'horsepower', 'weight', 'acceleration'], dtype='object')"
            ]
          },
          "metadata": {},
          "execution_count": 36
        }
      ],
      "source": [
        "# selecionando as variáveis de interesse\n",
        "features = data.columns[1:6]\n",
        "features"
      ]
    },
    {
      "cell_type": "code",
      "execution_count": 37,
      "metadata": {
        "id": "1jzdc6WSRVXE"
      },
      "outputs": [],
      "source": [
        "# instanciando as variváveis explicativas e a resposta\n",
        "X = data[features]\n",
        "y = data[['mpg']]"
      ]
    },
    {
      "cell_type": "code",
      "execution_count": 38,
      "metadata": {
        "id": "uTJ_w51pVuay"
      },
      "outputs": [],
      "source": [
        "# realizando a conversão das variáveis \"weight\" e \"mpg\"\n",
        "X['weight'] = X['weight'] * 0.453592\n",
        "y['mpg'] = y['mpg'] * 0.425144"
      ]
    },
    {
      "cell_type": "code",
      "execution_count": 39,
      "metadata": {
        "colab": {
          "base_uri": "https://localhost:8080/",
          "height": 206
        },
        "id": "B-dp0yceRVVw",
        "outputId": "fe72cd13-aad6-458a-a2d9-ccd70abea69b"
      },
      "outputs": [
        {
          "output_type": "execute_result",
          "data": {
            "text/plain": [
              "                        0            1            2            3            4  \\\n",
              "cylinders        8.000000     8.000000     8.000000     8.000000     8.000000   \n",
              "displacement   307.000000   350.000000   318.000000   304.000000   302.000000   \n",
              "horsepower     130.000000   165.000000   150.000000   150.000000   140.000000   \n",
              "weight        1589.386368  1675.115256  1558.542112  1557.181336  1564.438808   \n",
              "acceleration    12.000000    11.500000    11.000000    12.000000    10.500000   \n",
              "\n",
              "                        5            6            7          8          9  \n",
              "cylinders        8.000000     8.000000     8.000000     8.0000     8.0000  \n",
              "displacement   429.000000   454.000000   440.000000   455.0000   390.0000  \n",
              "horsepower     198.000000   220.000000   215.000000   225.0000   190.0000  \n",
              "weight        1969.042872  1974.939568  1955.888704  2007.1446  1746.3292  \n",
              "acceleration    10.000000     9.000000     8.500000    10.0000     8.5000  "
            ],
            "text/html": [
              "\n",
              "  <div id=\"df-e084aef6-d3c2-4cfe-87b5-93bb02c210f6\">\n",
              "    <div class=\"colab-df-container\">\n",
              "      <div>\n",
              "<style scoped>\n",
              "    .dataframe tbody tr th:only-of-type {\n",
              "        vertical-align: middle;\n",
              "    }\n",
              "\n",
              "    .dataframe tbody tr th {\n",
              "        vertical-align: top;\n",
              "    }\n",
              "\n",
              "    .dataframe thead th {\n",
              "        text-align: right;\n",
              "    }\n",
              "</style>\n",
              "<table border=\"1\" class=\"dataframe\">\n",
              "  <thead>\n",
              "    <tr style=\"text-align: right;\">\n",
              "      <th></th>\n",
              "      <th>0</th>\n",
              "      <th>1</th>\n",
              "      <th>2</th>\n",
              "      <th>3</th>\n",
              "      <th>4</th>\n",
              "      <th>5</th>\n",
              "      <th>6</th>\n",
              "      <th>7</th>\n",
              "      <th>8</th>\n",
              "      <th>9</th>\n",
              "    </tr>\n",
              "  </thead>\n",
              "  <tbody>\n",
              "    <tr>\n",
              "      <th>cylinders</th>\n",
              "      <td>8.000000</td>\n",
              "      <td>8.000000</td>\n",
              "      <td>8.000000</td>\n",
              "      <td>8.000000</td>\n",
              "      <td>8.000000</td>\n",
              "      <td>8.000000</td>\n",
              "      <td>8.000000</td>\n",
              "      <td>8.000000</td>\n",
              "      <td>8.0000</td>\n",
              "      <td>8.0000</td>\n",
              "    </tr>\n",
              "    <tr>\n",
              "      <th>displacement</th>\n",
              "      <td>307.000000</td>\n",
              "      <td>350.000000</td>\n",
              "      <td>318.000000</td>\n",
              "      <td>304.000000</td>\n",
              "      <td>302.000000</td>\n",
              "      <td>429.000000</td>\n",
              "      <td>454.000000</td>\n",
              "      <td>440.000000</td>\n",
              "      <td>455.0000</td>\n",
              "      <td>390.0000</td>\n",
              "    </tr>\n",
              "    <tr>\n",
              "      <th>horsepower</th>\n",
              "      <td>130.000000</td>\n",
              "      <td>165.000000</td>\n",
              "      <td>150.000000</td>\n",
              "      <td>150.000000</td>\n",
              "      <td>140.000000</td>\n",
              "      <td>198.000000</td>\n",
              "      <td>220.000000</td>\n",
              "      <td>215.000000</td>\n",
              "      <td>225.0000</td>\n",
              "      <td>190.0000</td>\n",
              "    </tr>\n",
              "    <tr>\n",
              "      <th>weight</th>\n",
              "      <td>1589.386368</td>\n",
              "      <td>1675.115256</td>\n",
              "      <td>1558.542112</td>\n",
              "      <td>1557.181336</td>\n",
              "      <td>1564.438808</td>\n",
              "      <td>1969.042872</td>\n",
              "      <td>1974.939568</td>\n",
              "      <td>1955.888704</td>\n",
              "      <td>2007.1446</td>\n",
              "      <td>1746.3292</td>\n",
              "    </tr>\n",
              "    <tr>\n",
              "      <th>acceleration</th>\n",
              "      <td>12.000000</td>\n",
              "      <td>11.500000</td>\n",
              "      <td>11.000000</td>\n",
              "      <td>12.000000</td>\n",
              "      <td>10.500000</td>\n",
              "      <td>10.000000</td>\n",
              "      <td>9.000000</td>\n",
              "      <td>8.500000</td>\n",
              "      <td>10.0000</td>\n",
              "      <td>8.5000</td>\n",
              "    </tr>\n",
              "  </tbody>\n",
              "</table>\n",
              "</div>\n",
              "      <button class=\"colab-df-convert\" onclick=\"convertToInteractive('df-e084aef6-d3c2-4cfe-87b5-93bb02c210f6')\"\n",
              "              title=\"Convert this dataframe to an interactive table.\"\n",
              "              style=\"display:none;\">\n",
              "        \n",
              "  <svg xmlns=\"http://www.w3.org/2000/svg\" height=\"24px\"viewBox=\"0 0 24 24\"\n",
              "       width=\"24px\">\n",
              "    <path d=\"M0 0h24v24H0V0z\" fill=\"none\"/>\n",
              "    <path d=\"M18.56 5.44l.94 2.06.94-2.06 2.06-.94-2.06-.94-.94-2.06-.94 2.06-2.06.94zm-11 1L8.5 8.5l.94-2.06 2.06-.94-2.06-.94L8.5 2.5l-.94 2.06-2.06.94zm10 10l.94 2.06.94-2.06 2.06-.94-2.06-.94-.94-2.06-.94 2.06-2.06.94z\"/><path d=\"M17.41 7.96l-1.37-1.37c-.4-.4-.92-.59-1.43-.59-.52 0-1.04.2-1.43.59L10.3 9.45l-7.72 7.72c-.78.78-.78 2.05 0 2.83L4 21.41c.39.39.9.59 1.41.59.51 0 1.02-.2 1.41-.59l7.78-7.78 2.81-2.81c.8-.78.8-2.07 0-2.86zM5.41 20L4 18.59l7.72-7.72 1.47 1.35L5.41 20z\"/>\n",
              "  </svg>\n",
              "      </button>\n",
              "      \n",
              "  <style>\n",
              "    .colab-df-container {\n",
              "      display:flex;\n",
              "      flex-wrap:wrap;\n",
              "      gap: 12px;\n",
              "    }\n",
              "\n",
              "    .colab-df-convert {\n",
              "      background-color: #E8F0FE;\n",
              "      border: none;\n",
              "      border-radius: 50%;\n",
              "      cursor: pointer;\n",
              "      display: none;\n",
              "      fill: #1967D2;\n",
              "      height: 32px;\n",
              "      padding: 0 0 0 0;\n",
              "      width: 32px;\n",
              "    }\n",
              "\n",
              "    .colab-df-convert:hover {\n",
              "      background-color: #E2EBFA;\n",
              "      box-shadow: 0px 1px 2px rgba(60, 64, 67, 0.3), 0px 1px 3px 1px rgba(60, 64, 67, 0.15);\n",
              "      fill: #174EA6;\n",
              "    }\n",
              "\n",
              "    [theme=dark] .colab-df-convert {\n",
              "      background-color: #3B4455;\n",
              "      fill: #D2E3FC;\n",
              "    }\n",
              "\n",
              "    [theme=dark] .colab-df-convert:hover {\n",
              "      background-color: #434B5C;\n",
              "      box-shadow: 0px 1px 3px 1px rgba(0, 0, 0, 0.15);\n",
              "      filter: drop-shadow(0px 1px 2px rgba(0, 0, 0, 0.3));\n",
              "      fill: #FFFFFF;\n",
              "    }\n",
              "  </style>\n",
              "\n",
              "      <script>\n",
              "        const buttonEl =\n",
              "          document.querySelector('#df-e084aef6-d3c2-4cfe-87b5-93bb02c210f6 button.colab-df-convert');\n",
              "        buttonEl.style.display =\n",
              "          google.colab.kernel.accessAllowed ? 'block' : 'none';\n",
              "\n",
              "        async function convertToInteractive(key) {\n",
              "          const element = document.querySelector('#df-e084aef6-d3c2-4cfe-87b5-93bb02c210f6');\n",
              "          const dataTable =\n",
              "            await google.colab.kernel.invokeFunction('convertToInteractive',\n",
              "                                                     [key], {});\n",
              "          if (!dataTable) return;\n",
              "\n",
              "          const docLinkHtml = 'Like what you see? Visit the ' +\n",
              "            '<a target=\"_blank\" href=https://colab.research.google.com/notebooks/data_table.ipynb>data table notebook</a>'\n",
              "            + ' to learn more about interactive tables.';\n",
              "          element.innerHTML = '';\n",
              "          dataTable['output_type'] = 'display_data';\n",
              "          await google.colab.output.renderOutput(dataTable, element);\n",
              "          const docLink = document.createElement('div');\n",
              "          docLink.innerHTML = docLinkHtml;\n",
              "          element.appendChild(docLink);\n",
              "        }\n",
              "      </script>\n",
              "    </div>\n",
              "  </div>\n",
              "  "
            ]
          },
          "metadata": {},
          "execution_count": 39
        }
      ],
      "source": [
        "# visualizando as 10 primeiras observações da variável X\n",
        "X.head(10).T"
      ]
    },
    {
      "cell_type": "code",
      "execution_count": 40,
      "metadata": {
        "colab": {
          "base_uri": "https://localhost:8080/",
          "height": 81
        },
        "id": "FYHEnL9yRVSr",
        "outputId": "ea75f1e5-9a95-477c-e5af-01f065ef4d91"
      },
      "outputs": [
        {
          "output_type": "execute_result",
          "data": {
            "text/plain": [
              "            0        1         2         3         4        5         6  \\\n",
              "mpg  7.652592  6.37716  7.652592  6.802304  7.227448  6.37716  5.952016   \n",
              "\n",
              "            7         8        9  \n",
              "mpg  5.952016  5.952016  6.37716  "
            ],
            "text/html": [
              "\n",
              "  <div id=\"df-a4d8eddb-7fd6-4887-913e-c27a31187649\">\n",
              "    <div class=\"colab-df-container\">\n",
              "      <div>\n",
              "<style scoped>\n",
              "    .dataframe tbody tr th:only-of-type {\n",
              "        vertical-align: middle;\n",
              "    }\n",
              "\n",
              "    .dataframe tbody tr th {\n",
              "        vertical-align: top;\n",
              "    }\n",
              "\n",
              "    .dataframe thead th {\n",
              "        text-align: right;\n",
              "    }\n",
              "</style>\n",
              "<table border=\"1\" class=\"dataframe\">\n",
              "  <thead>\n",
              "    <tr style=\"text-align: right;\">\n",
              "      <th></th>\n",
              "      <th>0</th>\n",
              "      <th>1</th>\n",
              "      <th>2</th>\n",
              "      <th>3</th>\n",
              "      <th>4</th>\n",
              "      <th>5</th>\n",
              "      <th>6</th>\n",
              "      <th>7</th>\n",
              "      <th>8</th>\n",
              "      <th>9</th>\n",
              "    </tr>\n",
              "  </thead>\n",
              "  <tbody>\n",
              "    <tr>\n",
              "      <th>mpg</th>\n",
              "      <td>7.652592</td>\n",
              "      <td>6.37716</td>\n",
              "      <td>7.652592</td>\n",
              "      <td>6.802304</td>\n",
              "      <td>7.227448</td>\n",
              "      <td>6.37716</td>\n",
              "      <td>5.952016</td>\n",
              "      <td>5.952016</td>\n",
              "      <td>5.952016</td>\n",
              "      <td>6.37716</td>\n",
              "    </tr>\n",
              "  </tbody>\n",
              "</table>\n",
              "</div>\n",
              "      <button class=\"colab-df-convert\" onclick=\"convertToInteractive('df-a4d8eddb-7fd6-4887-913e-c27a31187649')\"\n",
              "              title=\"Convert this dataframe to an interactive table.\"\n",
              "              style=\"display:none;\">\n",
              "        \n",
              "  <svg xmlns=\"http://www.w3.org/2000/svg\" height=\"24px\"viewBox=\"0 0 24 24\"\n",
              "       width=\"24px\">\n",
              "    <path d=\"M0 0h24v24H0V0z\" fill=\"none\"/>\n",
              "    <path d=\"M18.56 5.44l.94 2.06.94-2.06 2.06-.94-2.06-.94-.94-2.06-.94 2.06-2.06.94zm-11 1L8.5 8.5l.94-2.06 2.06-.94-2.06-.94L8.5 2.5l-.94 2.06-2.06.94zm10 10l.94 2.06.94-2.06 2.06-.94-2.06-.94-.94-2.06-.94 2.06-2.06.94z\"/><path d=\"M17.41 7.96l-1.37-1.37c-.4-.4-.92-.59-1.43-.59-.52 0-1.04.2-1.43.59L10.3 9.45l-7.72 7.72c-.78.78-.78 2.05 0 2.83L4 21.41c.39.39.9.59 1.41.59.51 0 1.02-.2 1.41-.59l7.78-7.78 2.81-2.81c.8-.78.8-2.07 0-2.86zM5.41 20L4 18.59l7.72-7.72 1.47 1.35L5.41 20z\"/>\n",
              "  </svg>\n",
              "      </button>\n",
              "      \n",
              "  <style>\n",
              "    .colab-df-container {\n",
              "      display:flex;\n",
              "      flex-wrap:wrap;\n",
              "      gap: 12px;\n",
              "    }\n",
              "\n",
              "    .colab-df-convert {\n",
              "      background-color: #E8F0FE;\n",
              "      border: none;\n",
              "      border-radius: 50%;\n",
              "      cursor: pointer;\n",
              "      display: none;\n",
              "      fill: #1967D2;\n",
              "      height: 32px;\n",
              "      padding: 0 0 0 0;\n",
              "      width: 32px;\n",
              "    }\n",
              "\n",
              "    .colab-df-convert:hover {\n",
              "      background-color: #E2EBFA;\n",
              "      box-shadow: 0px 1px 2px rgba(60, 64, 67, 0.3), 0px 1px 3px 1px rgba(60, 64, 67, 0.15);\n",
              "      fill: #174EA6;\n",
              "    }\n",
              "\n",
              "    [theme=dark] .colab-df-convert {\n",
              "      background-color: #3B4455;\n",
              "      fill: #D2E3FC;\n",
              "    }\n",
              "\n",
              "    [theme=dark] .colab-df-convert:hover {\n",
              "      background-color: #434B5C;\n",
              "      box-shadow: 0px 1px 3px 1px rgba(0, 0, 0, 0.15);\n",
              "      filter: drop-shadow(0px 1px 2px rgba(0, 0, 0, 0.3));\n",
              "      fill: #FFFFFF;\n",
              "    }\n",
              "  </style>\n",
              "\n",
              "      <script>\n",
              "        const buttonEl =\n",
              "          document.querySelector('#df-a4d8eddb-7fd6-4887-913e-c27a31187649 button.colab-df-convert');\n",
              "        buttonEl.style.display =\n",
              "          google.colab.kernel.accessAllowed ? 'block' : 'none';\n",
              "\n",
              "        async function convertToInteractive(key) {\n",
              "          const element = document.querySelector('#df-a4d8eddb-7fd6-4887-913e-c27a31187649');\n",
              "          const dataTable =\n",
              "            await google.colab.kernel.invokeFunction('convertToInteractive',\n",
              "                                                     [key], {});\n",
              "          if (!dataTable) return;\n",
              "\n",
              "          const docLinkHtml = 'Like what you see? Visit the ' +\n",
              "            '<a target=\"_blank\" href=https://colab.research.google.com/notebooks/data_table.ipynb>data table notebook</a>'\n",
              "            + ' to learn more about interactive tables.';\n",
              "          element.innerHTML = '';\n",
              "          dataTable['output_type'] = 'display_data';\n",
              "          await google.colab.output.renderOutput(dataTable, element);\n",
              "          const docLink = document.createElement('div');\n",
              "          docLink.innerHTML = docLinkHtml;\n",
              "          element.appendChild(docLink);\n",
              "        }\n",
              "      </script>\n",
              "    </div>\n",
              "  </div>\n",
              "  "
            ]
          },
          "metadata": {},
          "execution_count": 40
        }
      ],
      "source": [
        "# visualizando as 10 primeiras observações da variável y\n",
        "y.head(10).T"
      ]
    },
    {
      "cell_type": "code",
      "execution_count": 41,
      "metadata": {
        "colab": {
          "base_uri": "https://localhost:8080/",
          "height": 206
        },
        "id": "LXEaobs7RVP6",
        "outputId": "c0a7cdc9-770d-44ff-f544-0ac3f740e1ba"
      },
      "outputs": [
        {
          "output_type": "execute_result",
          "data": {
            "text/plain": [
              "              count         mean         std         min         25%  \\\n",
              "cylinders     398.0     5.454774    1.701004    3.000000     4.00000   \n",
              "displacement  398.0   193.425879  104.269838   68.000000   104.25000   \n",
              "horsepower    398.0   104.469388   38.199187   46.000000    76.00000   \n",
              "weight        398.0  1347.360846  384.120654  731.643896  1008.67521   \n",
              "acceleration  398.0    15.568090    2.757689    8.000000    13.82500   \n",
              "\n",
              "                      50%          75%         max  \n",
              "cylinders        4.000000     8.000000     8.00000  \n",
              "displacement   148.500000   262.000000   455.00000  \n",
              "horsepower      95.000000   125.000000   230.00000  \n",
              "weight        1271.645172  1636.559936  2331.46288  \n",
              "acceleration    15.500000    17.175000    24.80000  "
            ],
            "text/html": [
              "\n",
              "  <div id=\"df-1d171fc0-48d2-470f-aadc-ec367eb30a09\">\n",
              "    <div class=\"colab-df-container\">\n",
              "      <div>\n",
              "<style scoped>\n",
              "    .dataframe tbody tr th:only-of-type {\n",
              "        vertical-align: middle;\n",
              "    }\n",
              "\n",
              "    .dataframe tbody tr th {\n",
              "        vertical-align: top;\n",
              "    }\n",
              "\n",
              "    .dataframe thead th {\n",
              "        text-align: right;\n",
              "    }\n",
              "</style>\n",
              "<table border=\"1\" class=\"dataframe\">\n",
              "  <thead>\n",
              "    <tr style=\"text-align: right;\">\n",
              "      <th></th>\n",
              "      <th>count</th>\n",
              "      <th>mean</th>\n",
              "      <th>std</th>\n",
              "      <th>min</th>\n",
              "      <th>25%</th>\n",
              "      <th>50%</th>\n",
              "      <th>75%</th>\n",
              "      <th>max</th>\n",
              "    </tr>\n",
              "  </thead>\n",
              "  <tbody>\n",
              "    <tr>\n",
              "      <th>cylinders</th>\n",
              "      <td>398.0</td>\n",
              "      <td>5.454774</td>\n",
              "      <td>1.701004</td>\n",
              "      <td>3.000000</td>\n",
              "      <td>4.00000</td>\n",
              "      <td>4.000000</td>\n",
              "      <td>8.000000</td>\n",
              "      <td>8.00000</td>\n",
              "    </tr>\n",
              "    <tr>\n",
              "      <th>displacement</th>\n",
              "      <td>398.0</td>\n",
              "      <td>193.425879</td>\n",
              "      <td>104.269838</td>\n",
              "      <td>68.000000</td>\n",
              "      <td>104.25000</td>\n",
              "      <td>148.500000</td>\n",
              "      <td>262.000000</td>\n",
              "      <td>455.00000</td>\n",
              "    </tr>\n",
              "    <tr>\n",
              "      <th>horsepower</th>\n",
              "      <td>398.0</td>\n",
              "      <td>104.469388</td>\n",
              "      <td>38.199187</td>\n",
              "      <td>46.000000</td>\n",
              "      <td>76.00000</td>\n",
              "      <td>95.000000</td>\n",
              "      <td>125.000000</td>\n",
              "      <td>230.00000</td>\n",
              "    </tr>\n",
              "    <tr>\n",
              "      <th>weight</th>\n",
              "      <td>398.0</td>\n",
              "      <td>1347.360846</td>\n",
              "      <td>384.120654</td>\n",
              "      <td>731.643896</td>\n",
              "      <td>1008.67521</td>\n",
              "      <td>1271.645172</td>\n",
              "      <td>1636.559936</td>\n",
              "      <td>2331.46288</td>\n",
              "    </tr>\n",
              "    <tr>\n",
              "      <th>acceleration</th>\n",
              "      <td>398.0</td>\n",
              "      <td>15.568090</td>\n",
              "      <td>2.757689</td>\n",
              "      <td>8.000000</td>\n",
              "      <td>13.82500</td>\n",
              "      <td>15.500000</td>\n",
              "      <td>17.175000</td>\n",
              "      <td>24.80000</td>\n",
              "    </tr>\n",
              "  </tbody>\n",
              "</table>\n",
              "</div>\n",
              "      <button class=\"colab-df-convert\" onclick=\"convertToInteractive('df-1d171fc0-48d2-470f-aadc-ec367eb30a09')\"\n",
              "              title=\"Convert this dataframe to an interactive table.\"\n",
              "              style=\"display:none;\">\n",
              "        \n",
              "  <svg xmlns=\"http://www.w3.org/2000/svg\" height=\"24px\"viewBox=\"0 0 24 24\"\n",
              "       width=\"24px\">\n",
              "    <path d=\"M0 0h24v24H0V0z\" fill=\"none\"/>\n",
              "    <path d=\"M18.56 5.44l.94 2.06.94-2.06 2.06-.94-2.06-.94-.94-2.06-.94 2.06-2.06.94zm-11 1L8.5 8.5l.94-2.06 2.06-.94-2.06-.94L8.5 2.5l-.94 2.06-2.06.94zm10 10l.94 2.06.94-2.06 2.06-.94-2.06-.94-.94-2.06-.94 2.06-2.06.94z\"/><path d=\"M17.41 7.96l-1.37-1.37c-.4-.4-.92-.59-1.43-.59-.52 0-1.04.2-1.43.59L10.3 9.45l-7.72 7.72c-.78.78-.78 2.05 0 2.83L4 21.41c.39.39.9.59 1.41.59.51 0 1.02-.2 1.41-.59l7.78-7.78 2.81-2.81c.8-.78.8-2.07 0-2.86zM5.41 20L4 18.59l7.72-7.72 1.47 1.35L5.41 20z\"/>\n",
              "  </svg>\n",
              "      </button>\n",
              "      \n",
              "  <style>\n",
              "    .colab-df-container {\n",
              "      display:flex;\n",
              "      flex-wrap:wrap;\n",
              "      gap: 12px;\n",
              "    }\n",
              "\n",
              "    .colab-df-convert {\n",
              "      background-color: #E8F0FE;\n",
              "      border: none;\n",
              "      border-radius: 50%;\n",
              "      cursor: pointer;\n",
              "      display: none;\n",
              "      fill: #1967D2;\n",
              "      height: 32px;\n",
              "      padding: 0 0 0 0;\n",
              "      width: 32px;\n",
              "    }\n",
              "\n",
              "    .colab-df-convert:hover {\n",
              "      background-color: #E2EBFA;\n",
              "      box-shadow: 0px 1px 2px rgba(60, 64, 67, 0.3), 0px 1px 3px 1px rgba(60, 64, 67, 0.15);\n",
              "      fill: #174EA6;\n",
              "    }\n",
              "\n",
              "    [theme=dark] .colab-df-convert {\n",
              "      background-color: #3B4455;\n",
              "      fill: #D2E3FC;\n",
              "    }\n",
              "\n",
              "    [theme=dark] .colab-df-convert:hover {\n",
              "      background-color: #434B5C;\n",
              "      box-shadow: 0px 1px 3px 1px rgba(0, 0, 0, 0.15);\n",
              "      filter: drop-shadow(0px 1px 2px rgba(0, 0, 0, 0.3));\n",
              "      fill: #FFFFFF;\n",
              "    }\n",
              "  </style>\n",
              "\n",
              "      <script>\n",
              "        const buttonEl =\n",
              "          document.querySelector('#df-1d171fc0-48d2-470f-aadc-ec367eb30a09 button.colab-df-convert');\n",
              "        buttonEl.style.display =\n",
              "          google.colab.kernel.accessAllowed ? 'block' : 'none';\n",
              "\n",
              "        async function convertToInteractive(key) {\n",
              "          const element = document.querySelector('#df-1d171fc0-48d2-470f-aadc-ec367eb30a09');\n",
              "          const dataTable =\n",
              "            await google.colab.kernel.invokeFunction('convertToInteractive',\n",
              "                                                     [key], {});\n",
              "          if (!dataTable) return;\n",
              "\n",
              "          const docLinkHtml = 'Like what you see? Visit the ' +\n",
              "            '<a target=\"_blank\" href=https://colab.research.google.com/notebooks/data_table.ipynb>data table notebook</a>'\n",
              "            + ' to learn more about interactive tables.';\n",
              "          element.innerHTML = '';\n",
              "          dataTable['output_type'] = 'display_data';\n",
              "          await google.colab.output.renderOutput(dataTable, element);\n",
              "          const docLink = document.createElement('div');\n",
              "          docLink.innerHTML = docLinkHtml;\n",
              "          element.appendChild(docLink);\n",
              "        }\n",
              "      </script>\n",
              "    </div>\n",
              "  </div>\n",
              "  "
            ]
          },
          "metadata": {},
          "execution_count": 41
        }
      ],
      "source": [
        "# estatística descritiva \n",
        "X.describe().T"
      ]
    },
    {
      "cell_type": "code",
      "execution_count": 42,
      "metadata": {
        "id": "r3Z3Fxf3V8xG"
      },
      "outputs": [],
      "source": [
        "# escalonamento dos dados\n",
        "scaling = StandardScaler()\n",
        "\n",
        "scaling.fit(X)\n",
        "X_normal = scaling.fit_transform(X)"
      ]
    },
    {
      "cell_type": "code",
      "execution_count": 43,
      "metadata": {
        "colab": {
          "base_uri": "https://localhost:8080/",
          "height": 206
        },
        "id": "ZuXzUULZV8uG",
        "outputId": "f1229d17-c06a-4b4f-8a8c-d7f8fe1c0f38"
      },
      "outputs": [
        {
          "output_type": "execute_result",
          "data": {
            "text/plain": [
              "   count          mean       std       min       25%       50%       75%  \\\n",
              "0  398.0 -3.570567e-17  1.001259 -1.444949 -0.856321 -0.856321  1.498191   \n",
              "1  398.0 -1.785283e-17  1.001259 -1.204411 -0.856318 -0.431404  0.658488   \n",
              "2  398.0  3.213510e-16  1.001259 -1.532571 -0.746226 -0.248207  0.538138   \n",
              "3  398.0  1.249698e-16  1.001259 -1.604943 -0.882827 -0.197362  0.753834   \n",
              "4  398.0 -2.677925e-16  1.001259 -2.747814 -0.632879 -0.024722  0.583435   \n",
              "\n",
              "        max  \n",
              "0  1.498191  \n",
              "1  2.511784  \n",
              "2  3.290348  \n",
              "3  2.565185  \n",
              "4  3.351912  "
            ],
            "text/html": [
              "\n",
              "  <div id=\"df-32d732b0-bc11-4f2d-8d62-e202f72e038b\">\n",
              "    <div class=\"colab-df-container\">\n",
              "      <div>\n",
              "<style scoped>\n",
              "    .dataframe tbody tr th:only-of-type {\n",
              "        vertical-align: middle;\n",
              "    }\n",
              "\n",
              "    .dataframe tbody tr th {\n",
              "        vertical-align: top;\n",
              "    }\n",
              "\n",
              "    .dataframe thead th {\n",
              "        text-align: right;\n",
              "    }\n",
              "</style>\n",
              "<table border=\"1\" class=\"dataframe\">\n",
              "  <thead>\n",
              "    <tr style=\"text-align: right;\">\n",
              "      <th></th>\n",
              "      <th>count</th>\n",
              "      <th>mean</th>\n",
              "      <th>std</th>\n",
              "      <th>min</th>\n",
              "      <th>25%</th>\n",
              "      <th>50%</th>\n",
              "      <th>75%</th>\n",
              "      <th>max</th>\n",
              "    </tr>\n",
              "  </thead>\n",
              "  <tbody>\n",
              "    <tr>\n",
              "      <th>0</th>\n",
              "      <td>398.0</td>\n",
              "      <td>-3.570567e-17</td>\n",
              "      <td>1.001259</td>\n",
              "      <td>-1.444949</td>\n",
              "      <td>-0.856321</td>\n",
              "      <td>-0.856321</td>\n",
              "      <td>1.498191</td>\n",
              "      <td>1.498191</td>\n",
              "    </tr>\n",
              "    <tr>\n",
              "      <th>1</th>\n",
              "      <td>398.0</td>\n",
              "      <td>-1.785283e-17</td>\n",
              "      <td>1.001259</td>\n",
              "      <td>-1.204411</td>\n",
              "      <td>-0.856318</td>\n",
              "      <td>-0.431404</td>\n",
              "      <td>0.658488</td>\n",
              "      <td>2.511784</td>\n",
              "    </tr>\n",
              "    <tr>\n",
              "      <th>2</th>\n",
              "      <td>398.0</td>\n",
              "      <td>3.213510e-16</td>\n",
              "      <td>1.001259</td>\n",
              "      <td>-1.532571</td>\n",
              "      <td>-0.746226</td>\n",
              "      <td>-0.248207</td>\n",
              "      <td>0.538138</td>\n",
              "      <td>3.290348</td>\n",
              "    </tr>\n",
              "    <tr>\n",
              "      <th>3</th>\n",
              "      <td>398.0</td>\n",
              "      <td>1.249698e-16</td>\n",
              "      <td>1.001259</td>\n",
              "      <td>-1.604943</td>\n",
              "      <td>-0.882827</td>\n",
              "      <td>-0.197362</td>\n",
              "      <td>0.753834</td>\n",
              "      <td>2.565185</td>\n",
              "    </tr>\n",
              "    <tr>\n",
              "      <th>4</th>\n",
              "      <td>398.0</td>\n",
              "      <td>-2.677925e-16</td>\n",
              "      <td>1.001259</td>\n",
              "      <td>-2.747814</td>\n",
              "      <td>-0.632879</td>\n",
              "      <td>-0.024722</td>\n",
              "      <td>0.583435</td>\n",
              "      <td>3.351912</td>\n",
              "    </tr>\n",
              "  </tbody>\n",
              "</table>\n",
              "</div>\n",
              "      <button class=\"colab-df-convert\" onclick=\"convertToInteractive('df-32d732b0-bc11-4f2d-8d62-e202f72e038b')\"\n",
              "              title=\"Convert this dataframe to an interactive table.\"\n",
              "              style=\"display:none;\">\n",
              "        \n",
              "  <svg xmlns=\"http://www.w3.org/2000/svg\" height=\"24px\"viewBox=\"0 0 24 24\"\n",
              "       width=\"24px\">\n",
              "    <path d=\"M0 0h24v24H0V0z\" fill=\"none\"/>\n",
              "    <path d=\"M18.56 5.44l.94 2.06.94-2.06 2.06-.94-2.06-.94-.94-2.06-.94 2.06-2.06.94zm-11 1L8.5 8.5l.94-2.06 2.06-.94-2.06-.94L8.5 2.5l-.94 2.06-2.06.94zm10 10l.94 2.06.94-2.06 2.06-.94-2.06-.94-.94-2.06-.94 2.06-2.06.94z\"/><path d=\"M17.41 7.96l-1.37-1.37c-.4-.4-.92-.59-1.43-.59-.52 0-1.04.2-1.43.59L10.3 9.45l-7.72 7.72c-.78.78-.78 2.05 0 2.83L4 21.41c.39.39.9.59 1.41.59.51 0 1.02-.2 1.41-.59l7.78-7.78 2.81-2.81c.8-.78.8-2.07 0-2.86zM5.41 20L4 18.59l7.72-7.72 1.47 1.35L5.41 20z\"/>\n",
              "  </svg>\n",
              "      </button>\n",
              "      \n",
              "  <style>\n",
              "    .colab-df-container {\n",
              "      display:flex;\n",
              "      flex-wrap:wrap;\n",
              "      gap: 12px;\n",
              "    }\n",
              "\n",
              "    .colab-df-convert {\n",
              "      background-color: #E8F0FE;\n",
              "      border: none;\n",
              "      border-radius: 50%;\n",
              "      cursor: pointer;\n",
              "      display: none;\n",
              "      fill: #1967D2;\n",
              "      height: 32px;\n",
              "      padding: 0 0 0 0;\n",
              "      width: 32px;\n",
              "    }\n",
              "\n",
              "    .colab-df-convert:hover {\n",
              "      background-color: #E2EBFA;\n",
              "      box-shadow: 0px 1px 2px rgba(60, 64, 67, 0.3), 0px 1px 3px 1px rgba(60, 64, 67, 0.15);\n",
              "      fill: #174EA6;\n",
              "    }\n",
              "\n",
              "    [theme=dark] .colab-df-convert {\n",
              "      background-color: #3B4455;\n",
              "      fill: #D2E3FC;\n",
              "    }\n",
              "\n",
              "    [theme=dark] .colab-df-convert:hover {\n",
              "      background-color: #434B5C;\n",
              "      box-shadow: 0px 1px 3px 1px rgba(0, 0, 0, 0.15);\n",
              "      filter: drop-shadow(0px 1px 2px rgba(0, 0, 0, 0.3));\n",
              "      fill: #FFFFFF;\n",
              "    }\n",
              "  </style>\n",
              "\n",
              "      <script>\n",
              "        const buttonEl =\n",
              "          document.querySelector('#df-32d732b0-bc11-4f2d-8d62-e202f72e038b button.colab-df-convert');\n",
              "        buttonEl.style.display =\n",
              "          google.colab.kernel.accessAllowed ? 'block' : 'none';\n",
              "\n",
              "        async function convertToInteractive(key) {\n",
              "          const element = document.querySelector('#df-32d732b0-bc11-4f2d-8d62-e202f72e038b');\n",
              "          const dataTable =\n",
              "            await google.colab.kernel.invokeFunction('convertToInteractive',\n",
              "                                                     [key], {});\n",
              "          if (!dataTable) return;\n",
              "\n",
              "          const docLinkHtml = 'Like what you see? Visit the ' +\n",
              "            '<a target=\"_blank\" href=https://colab.research.google.com/notebooks/data_table.ipynb>data table notebook</a>'\n",
              "            + ' to learn more about interactive tables.';\n",
              "          element.innerHTML = '';\n",
              "          dataTable['output_type'] = 'display_data';\n",
              "          await google.colab.output.renderOutput(dataTable, element);\n",
              "          const docLink = document.createElement('div');\n",
              "          docLink.innerHTML = docLinkHtml;\n",
              "          element.appendChild(docLink);\n",
              "        }\n",
              "      </script>\n",
              "    </div>\n",
              "  </div>\n",
              "  "
            ]
          },
          "metadata": {},
          "execution_count": 43
        }
      ],
      "source": [
        "# estatística descritiva após o escalonamento\n",
        "pd.DataFrame(X_normal).describe().T"
      ]
    },
    {
      "cell_type": "code",
      "execution_count": 44,
      "metadata": {
        "colab": {
          "base_uri": "https://localhost:8080/"
        },
        "id": "x2c950uBW40p",
        "outputId": "f56e620d-40f6-468e-c494-17eeb0984201"
      },
      "outputs": [
        {
          "output_type": "execute_result",
          "data": {
            "text/plain": [
              "0    0\n",
              "1    0\n",
              "2    0\n",
              "3    0\n",
              "4    0\n",
              "dtype: int64"
            ]
          },
          "metadata": {},
          "execution_count": 44
        }
      ],
      "source": [
        "# visualizando a presença de valores ausentes/nulos\n",
        "pd.DataFrame(X_normal).isna().sum()"
      ]
    },
    {
      "cell_type": "code",
      "execution_count": 45,
      "metadata": {
        "id": "9L1MJ34KV8rm"
      },
      "outputs": [],
      "source": [
        "# instanciando os dados de treino e teste\n",
        "Xtrain_normal, Xtest_normal, yTrain, yTest = tts(\n",
        "    X_normal, y , test_size=0.4, random_state=1527\n",
        ")"
      ]
    },
    {
      "cell_type": "code",
      "execution_count": 46,
      "metadata": {
        "colab": {
          "base_uri": "https://localhost:8080/"
        },
        "id": "KLDSp649V8pb",
        "outputId": "552f4835-09ff-494f-db77-c85a8be6708e"
      },
      "outputs": [
        {
          "output_type": "execute_result",
          "data": {
            "text/plain": [
              "((238, 5), (160, 5), (238, 1), (160, 1))"
            ]
          },
          "metadata": {},
          "execution_count": 46
        }
      ],
      "source": [
        "# visualizando a dimensão dos objetos - linhas e colunas\n",
        "Xtrain_normal.shape, Xtest_normal.shape, yTrain.shape, yTest.shape"
      ]
    },
    {
      "cell_type": "code",
      "execution_count": 47,
      "metadata": {
        "colab": {
          "base_uri": "https://localhost:8080/"
        },
        "id": "xkC-TGx5V8nG",
        "outputId": "05667ffb-fe5c-4078-feb8-1c2a4635f98a"
      },
      "outputs": [
        {
          "output_type": "execute_result",
          "data": {
            "text/plain": [
              "MLPRegressor(hidden_layer_sizes=(10, 5), learning_rate_init=0.01, max_iter=2000,\n",
              "             random_state=1527, solver='sgd', tol=1e-07, verbose=2)"
            ]
          },
          "metadata": {},
          "execution_count": 47
        }
      ],
      "source": [
        "# modelo de rna\n",
        "model_RNA2 = MLPRegressor(\n",
        "    hidden_layer_sizes=(10, 5),     # tamanho das camadas ocultas: 1a camada com 10 neurônios | 2a camada com 5\n",
        "    max_iter=2_000,                 # quantidade de iterações do modelo: 2 mil épocas\n",
        "    tol=1e-7,                       # tolerância de  (0.1e-6 = 0.0000001)\n",
        "    learning_rate_init=0.01,        # taxa de aprendizagem inicial\n",
        "    solver='sgd',                   # função de resolução: sgd: stochastic gradient descent | descida de gradiente estocástica \n",
        "    activation='relu',              # função de ativação: relu\n",
        "    learning_rate='constant',       # taxa de aprendizagem: constante\n",
        "    verbose=2,                      # exibindo as iterações dos modelo\n",
        "    random_state=1527               # taxa de aleatoriedade\n",
        ")\n",
        "\n",
        "model_RNA2"
      ]
    },
    {
      "cell_type": "code",
      "execution_count": 48,
      "metadata": {
        "colab": {
          "base_uri": "https://localhost:8080/"
        },
        "id": "whKnvndVV8lA",
        "outputId": "1a45526c-5ea8-437c-99c8-43bc9a921e8a"
      },
      "outputs": [
        {
          "output_type": "stream",
          "name": "stdout",
          "text": [
            "Iteration 1, loss = 61.86577843\n",
            "Iteration 2, loss = 45.62215837\n",
            "Iteration 3, loss = 37.11614412\n",
            "Iteration 4, loss = 25.91458284\n",
            "Iteration 5, loss = 10.40977235\n",
            "Iteration 6, loss = 5.71438031\n",
            "Iteration 7, loss = 2.18882260\n",
            "Iteration 8, loss = 2.40568559\n",
            "Iteration 9, loss = 1.96779055\n",
            "Iteration 10, loss = 1.99297775\n",
            "Iteration 11, loss = 1.83421794\n",
            "Iteration 12, loss = 1.61688688\n",
            "Iteration 13, loss = 1.58119497\n",
            "Iteration 14, loss = 1.66632439\n",
            "Iteration 15, loss = 1.57240761\n",
            "Iteration 16, loss = 1.76875924\n",
            "Iteration 17, loss = 1.58805256\n",
            "Iteration 18, loss = 2.13261619\n",
            "Iteration 19, loss = 1.55578013\n",
            "Iteration 20, loss = 1.57234227\n",
            "Iteration 21, loss = 1.81804011\n",
            "Iteration 22, loss = 1.71375700\n",
            "Iteration 23, loss = 1.50417760\n",
            "Iteration 24, loss = 1.50695488\n",
            "Iteration 25, loss = 1.55003511\n",
            "Iteration 26, loss = 1.59905961\n",
            "Iteration 27, loss = 1.68492931\n",
            "Iteration 28, loss = 1.62573981\n",
            "Iteration 29, loss = 1.47780331\n",
            "Iteration 30, loss = 1.46396950\n",
            "Iteration 31, loss = 1.46663630\n",
            "Iteration 32, loss = 1.47330957\n",
            "Iteration 33, loss = 1.65213219\n",
            "Iteration 34, loss = 1.45642017\n",
            "Iteration 35, loss = 1.48746583\n",
            "Iteration 36, loss = 1.45154388\n",
            "Iteration 37, loss = 1.52804765\n",
            "Iteration 38, loss = 1.65704506\n",
            "Iteration 39, loss = 1.47519532\n",
            "Iteration 40, loss = 1.66833763\n",
            "Iteration 41, loss = 1.43197909\n",
            "Iteration 42, loss = 1.44102287\n",
            "Iteration 43, loss = 1.46038712\n",
            "Iteration 44, loss = 1.99472281\n",
            "Iteration 45, loss = 1.48509976\n",
            "Iteration 46, loss = 1.54907326\n",
            "Iteration 47, loss = 1.47543671\n",
            "Iteration 48, loss = 1.60597787\n",
            "Iteration 49, loss = 1.42193677\n",
            "Iteration 50, loss = 1.59379971\n",
            "Iteration 51, loss = 1.57916320\n",
            "Iteration 52, loss = 1.46869114\n",
            "Iteration 53, loss = 1.40224530\n",
            "Iteration 54, loss = 1.41013668\n",
            "Iteration 55, loss = 1.55764737\n",
            "Iteration 56, loss = 1.39884889\n",
            "Iteration 57, loss = 1.41083281\n",
            "Iteration 58, loss = 1.45082553\n",
            "Iteration 59, loss = 1.40224642\n",
            "Iteration 60, loss = 1.39422978\n",
            "Iteration 61, loss = 1.39281927\n",
            "Iteration 62, loss = 1.39398024\n",
            "Iteration 63, loss = 1.41755669\n",
            "Iteration 64, loss = 1.46128149\n",
            "Iteration 65, loss = 1.54483774\n",
            "Iteration 66, loss = 1.39350144\n",
            "Iteration 67, loss = 1.45400562\n",
            "Iteration 68, loss = 1.64990829\n",
            "Iteration 69, loss = 1.39428099\n",
            "Iteration 70, loss = 1.40144605\n",
            "Iteration 71, loss = 1.42538458\n",
            "Iteration 72, loss = 1.81045475\n",
            "Training loss did not improve more than tol=0.000000 for 10 consecutive epochs. Stopping.\n"
          ]
        },
        {
          "output_type": "execute_result",
          "data": {
            "text/plain": [
              "MLPRegressor(hidden_layer_sizes=(10, 5), learning_rate_init=0.01, max_iter=2000,\n",
              "             random_state=1527, solver='sgd', tol=1e-07, verbose=2)"
            ]
          },
          "metadata": {},
          "execution_count": 48
        }
      ],
      "source": [
        "# treinamento do modelo\n",
        "model_RNA2.fit(Xtrain_normal, yTrain)"
      ]
    },
    {
      "cell_type": "code",
      "execution_count": 49,
      "metadata": {
        "colab": {
          "base_uri": "https://localhost:8080/"
        },
        "id": "4uYrs022V8e7",
        "outputId": "451a40d7-ef36-4755-d01e-26f8b7eb9866"
      },
      "outputs": [
        {
          "output_type": "execute_result",
          "data": {
            "text/plain": [
              "SGDRegressor(learning_rate='constant', max_iter=2000, random_state=1527,\n",
              "             tol=1e-07, verbose=2)"
            ]
          },
          "metadata": {},
          "execution_count": 49
        }
      ],
      "source": [
        "# modelo de regressão\n",
        "model_LREG2 = SGDRegressor(\n",
        "    max_iter=2_000,                 # quantidade de iterações do modelo: 2.500 épocas\n",
        "    tol=1e-7,                       # tolerância de  (0.1e-7 = 0.0000001)\n",
        "    eta0=0.01,                      # taxa de aprendizagem inicial\n",
        "    learning_rate='constant',       # taxa de aprendizagem: constante\n",
        "    verbose=2,                      # exibindo as iterações dos modelo\n",
        "    random_state=1527               # taxa de aleatoriedade\n",
        ")\n",
        "\n",
        "model_LREG2"
      ]
    },
    {
      "cell_type": "code",
      "execution_count": 50,
      "metadata": {
        "colab": {
          "base_uri": "https://localhost:8080/"
        },
        "id": "GFDkRQ5cV8cH",
        "outputId": "9626322f-0a75-453a-c789-e6c195b451ca"
      },
      "outputs": [
        {
          "output_type": "stream",
          "name": "stdout",
          "text": [
            "-- Epoch 1\n",
            "Norm: 1.39, NNZs: 5, Bias: 9.251642, T: 238, Avg. loss: 12.908545\n",
            "Total training time: 0.00 seconds.\n",
            "-- Epoch 2\n",
            "Norm: 1.67, NNZs: 5, Bias: 10.104236, T: 476, Avg. loss: 1.847925\n",
            "Total training time: 0.00 seconds.\n",
            "-- Epoch 3\n",
            "Norm: 1.67, NNZs: 5, Bias: 10.053195, T: 714, Avg. loss: 1.781510\n",
            "Total training time: 0.00 seconds.\n",
            "-- Epoch 4\n",
            "Norm: 1.78, NNZs: 5, Bias: 10.090184, T: 952, Avg. loss: 1.757446\n",
            "Total training time: 0.00 seconds.\n",
            "-- Epoch 5\n",
            "Norm: 1.79, NNZs: 5, Bias: 10.018304, T: 1190, Avg. loss: 1.722167\n",
            "Total training time: 0.00 seconds.\n",
            "-- Epoch 6\n",
            "Norm: 1.98, NNZs: 5, Bias: 10.045076, T: 1428, Avg. loss: 1.737425\n",
            "Total training time: 0.00 seconds.\n",
            "-- Epoch 7\n",
            "Norm: 2.07, NNZs: 5, Bias: 10.131607, T: 1666, Avg. loss: 1.739534\n",
            "Total training time: 0.00 seconds.\n",
            "-- Epoch 8\n",
            "Norm: 1.95, NNZs: 5, Bias: 9.995891, T: 1904, Avg. loss: 1.716017\n",
            "Total training time: 0.00 seconds.\n",
            "-- Epoch 9\n",
            "Norm: 2.05, NNZs: 5, Bias: 9.923731, T: 2142, Avg. loss: 1.741217\n",
            "Total training time: 0.00 seconds.\n",
            "-- Epoch 10\n",
            "Norm: 2.32, NNZs: 5, Bias: 10.051331, T: 2380, Avg. loss: 1.718811\n",
            "Total training time: 0.00 seconds.\n",
            "-- Epoch 11\n",
            "Norm: 2.17, NNZs: 5, Bias: 10.027820, T: 2618, Avg. loss: 1.725688\n",
            "Total training time: 0.00 seconds.\n",
            "-- Epoch 12\n",
            "Norm: 2.20, NNZs: 5, Bias: 10.015508, T: 2856, Avg. loss: 1.706685\n",
            "Total training time: 0.00 seconds.\n",
            "-- Epoch 13\n",
            "Norm: 2.25, NNZs: 5, Bias: 10.020953, T: 3094, Avg. loss: 1.744683\n",
            "Total training time: 0.00 seconds.\n",
            "-- Epoch 14\n",
            "Norm: 2.24, NNZs: 5, Bias: 9.979826, T: 3332, Avg. loss: 1.716484\n",
            "Total training time: 0.00 seconds.\n",
            "-- Epoch 15\n",
            "Norm: 2.40, NNZs: 5, Bias: 10.123818, T: 3570, Avg. loss: 1.721302\n",
            "Total training time: 0.00 seconds.\n",
            "-- Epoch 16\n",
            "Norm: 2.28, NNZs: 5, Bias: 10.082546, T: 3808, Avg. loss: 1.733661\n",
            "Total training time: 0.00 seconds.\n",
            "-- Epoch 17\n",
            "Norm: 2.33, NNZs: 5, Bias: 10.045273, T: 4046, Avg. loss: 1.694445\n",
            "Total training time: 0.00 seconds.\n",
            "-- Epoch 18\n",
            "Norm: 2.39, NNZs: 5, Bias: 9.985573, T: 4284, Avg. loss: 1.740225\n",
            "Total training time: 0.00 seconds.\n",
            "-- Epoch 19\n",
            "Norm: 2.39, NNZs: 5, Bias: 10.015596, T: 4522, Avg. loss: 1.728617\n",
            "Total training time: 0.00 seconds.\n",
            "-- Epoch 20\n",
            "Norm: 2.41, NNZs: 5, Bias: 10.014891, T: 4760, Avg. loss: 1.707726\n",
            "Total training time: 0.00 seconds.\n",
            "-- Epoch 21\n",
            "Norm: 2.36, NNZs: 5, Bias: 10.015677, T: 4998, Avg. loss: 1.733764\n",
            "Total training time: 0.00 seconds.\n",
            "-- Epoch 22\n",
            "Norm: 2.38, NNZs: 5, Bias: 10.099337, T: 5236, Avg. loss: 1.722364\n",
            "Total training time: 0.00 seconds.\n",
            "Convergence after 22 epochs took 0.00 seconds\n"
          ]
        },
        {
          "output_type": "execute_result",
          "data": {
            "text/plain": [
              "SGDRegressor(learning_rate='constant', max_iter=2000, random_state=1527,\n",
              "             tol=1e-07, verbose=2)"
            ]
          },
          "metadata": {},
          "execution_count": 50
        }
      ],
      "source": [
        "# treinando o modelo\n",
        "model_LREG2.fit(Xtrain_normal, yTrain)"
      ]
    },
    {
      "cell_type": "code",
      "execution_count": 51,
      "metadata": {
        "colab": {
          "base_uri": "https://localhost:8080/"
        },
        "id": "BzEB6bAoV8ZW",
        "outputId": "437cb30c-d473-4515-c881-bdf10aa8fccc"
      },
      "outputs": [
        {
          "output_type": "stream",
          "name": "stdout",
          "text": [
            "\t\t\t\tPrediction\n",
            "========================================================================\n",
            "\n",
            "yPred_ANN:\n",
            "[10.78419257 13.5643916  12.8639415   5.80593726  5.80593726 12.83565786\n",
            "  6.556215   12.60115476  7.90414806  7.92623351  9.90697565  8.89012474\n",
            "  5.80593726 12.80483487  9.3081021  11.42726074  8.90193429 11.3480463\n",
            " 11.01761748  9.93415031  7.92953362 13.90182699 11.9999583  12.12925792\n",
            "  7.80441274]\n",
            "\n",
            "yPred_LREG:\n",
            "[11.07911818 12.97030419 12.84126038  4.56163596  4.47624016 12.53903529\n",
            "  6.58362364 12.23408189  8.50457347  8.66389984 10.6775584  10.16984297\n",
            "  4.920987   12.58236279 10.35845892 10.7994139   9.90927863 11.50914985\n",
            " 11.63212367 10.09461893  8.67704532 13.0752575  11.44651582 12.32901039\n",
            "  7.85571721]\n"
          ]
        }
      ],
      "source": [
        "# realizando a predição com os modelos\n",
        "yPred_RNA2 = model_RNA2.predict(Xtest_normal)\n",
        "yPred_LREG2 = model_LREG2.predict(Xtest_normal)\n",
        "\n",
        "print(\n",
        "    '\\t\\t\\t\\tPrediction\\n'\n",
        "    '========================================================================\\n\\n'\n",
        "    f'yPred_ANN:\\n{yPred_RNA2[:25]}',\n",
        "    f'yPred_LREG:\\n{yPred_LREG2[:25]}',\n",
        "    sep='\\n\\n'\n",
        ")"
      ]
    },
    {
      "cell_type": "code",
      "execution_count": 52,
      "metadata": {
        "colab": {
          "base_uri": "https://localhost:8080/"
        },
        "id": "hxUC1kL9ZY08",
        "outputId": "a313f3b4-5304-4ebf-ad3f-ad184ea27f08"
      },
      "outputs": [
        {
          "output_type": "stream",
          "name": "stdout",
          "text": [
            "\tR2 score\n",
            "============================\n",
            "R2 ANN: 0.7090604169902595 \n",
            "R2 LREG: 0.6520026752506716\n"
          ]
        }
      ],
      "source": [
        "# visualizando o R2 dos modelos\n",
        "r2_RNA2 = r2_score(yTest, yPred_RNA2)\n",
        "r2_LREG2 = r2_score(yTest, yPred_LREG2)\n",
        "\n",
        "print(\n",
        "    '\\tR2 score\\n'\n",
        "    '============================\\n'\n",
        "    f'R2 ANN: {r2_RNA2}',\n",
        "    f'\\nR2 LREG: {r2_LREG2}'\n",
        ")"
      ]
    },
    {
      "cell_type": "code",
      "execution_count": 53,
      "metadata": {
        "colab": {
          "base_uri": "https://localhost:8080/",
          "height": 479
        },
        "id": "BKw1OmwxZYvf",
        "outputId": "5c7300b3-e1e6-4847-fbf6-2d6cbba75c28"
      },
      "outputs": [
        {
          "output_type": "display_data",
          "data": {
            "text/plain": [
              "<Figure size 792x504 with 1 Axes>"
            ],
            "image/png": "[encoded data removed]"
          },
          "metadata": {}
        }
      ],
      "source": [
        "# plotando o gráfico\n",
        "# Xtest = scaling.inverse_transform(Xtest_normal)\n",
        "\n",
        "plt.figure(figsize=(11, 7))\n",
        "\n",
        "plt.scatter(Xtest, yTest, alpha=0.5, label='real data')\n",
        "plt.scatter(Xtest, yPred_RNA2, alpha=0.5, label='ann')\n",
        "plt.scatter(Xtest, yPred_LREG2, alpha=0.5, label='linear regression')\n",
        "plt.xlabel('peso (kg)')\n",
        "plt.ylabel('autonomia (km/l)')\n",
        "plt.title('Comparação entre os modelos VS dados reais\\n')\n",
        "plt.legend(loc=1)\n",
        "plt.show()"
      ]
    },
    {
      "cell_type": "code",
      "execution_count": 54,
      "metadata": {
        "colab": {
          "base_uri": "https://localhost:8080/"
        },
        "id": "4MuNOqM1z1rB",
        "outputId": "7c0e60b1-5686-4ff9-9da5-dd74da761eac"
      },
      "outputs": [
        {
          "output_type": "execute_result",
          "data": {
            "text/plain": [
              "Index(['cylinders', 'displacement', 'horsepower', 'weight', 'acceleration'], dtype='object')"
            ]
          },
          "metadata": {},
          "execution_count": 54
        }
      ],
      "source": [
        "# visualizando os atributos de entrada\n",
        "features"
      ]
    },
    {
      "cell_type": "code",
      "execution_count": 55,
      "metadata": {
        "colab": {
          "base_uri": "https://localhost:8080/"
        },
        "id": "rHbnm80gz485",
        "outputId": "813043b8-ade8-4496-dc26-27cf9cc3b3e6"
      },
      "outputs": [
        {
          "output_type": "stream",
          "name": "stdout",
          "text": [
            "   cylinders  displacement  horsepower       weight  acceleration\n",
            "0          8         307.0       130.0  1589.386368          12.0\n",
            "\n",
            "        mpg\n",
            "0  7.652592\n"
          ]
        }
      ],
      "source": [
        "# visualizando um dado de entrada e saída\n",
        "print(X[:1])\n",
        "print()\n",
        "print(y[:1])"
      ]
    },
    {
      "cell_type": "code",
      "execution_count": 56,
      "metadata": {
        "id": "Jo24rPTYZYtI"
      },
      "outputs": [],
      "source": [
        "X_future = np.array([[8, 307.0, 130.0, 1589, 12.0]])\n",
        "# X_futureNorm = scaling.transform(X_future.T)"
      ]
    },
    {
      "cell_type": "code",
      "execution_count": 57,
      "metadata": {
        "colab": {
          "base_uri": "https://localhost:8080/"
        },
        "id": "KZrnNUkXyq5O",
        "outputId": "4b0df38e-e949-43ff-dd29-4141706830fa"
      },
      "outputs": [
        {
          "output_type": "stream",
          "name": "stdout",
          "text": [
            "ANN: [5.80593726] \n",
            "LReg: [-3680.85219215]\n"
          ]
        }
      ],
      "source": [
        "# realizando a predição com o dado isntanciado acima\n",
        "yPred_RNA_future = model_RNA2.predict(X_future)\n",
        "yPred_LREG_future = model_LREG2.predict(X_future)\n",
        "\n",
        "print(\n",
        "    f'ANN: {yPred_RNA_future}',\n",
        "    f'\\nLReg: {yPred_LREG_future}'\n",
        ")"
      ]
    },
    {
      "cell_type": "markdown",
      "source": [
        "<br>"
      ],
      "metadata": {
        "id": "a2YhrgPaeHVA"
      }
    },
    {
      "cell_type": "markdown",
      "source": [
        "#### **Busca dos melhores hiperparâmetros com algoritmo genético**"
      ],
      "metadata": {
        "id": "ZaGKF02keJZ3"
      }
    },
    {
      "cell_type": "code",
      "execution_count": 58,
      "metadata": {
        "colab": {
          "base_uri": "https://localhost:8080/"
        },
        "id": "HtnkIpBqZYii",
        "outputId": "7ef4b1e8-be45-4f43-bdc4-cefa558efb14"
      },
      "outputs": [
        {
          "output_type": "stream",
          "name": "stdout",
          "text": [
            "Looking in indexes: https://pypi.org/simple, https://us-python.pkg.dev/colab-wheels/public/simple/\n",
            "Requirement already satisfied: sklearn-deap in /usr/local/lib/python3.7/dist-packages (0.3.0)\n",
            "Requirement already satisfied: scikit-learn>=0.24.0 in /usr/local/lib/python3.7/dist-packages (from sklearn-deap) (1.0.2)\n",
            "Requirement already satisfied: numpy>=1.9.3 in /usr/local/lib/python3.7/dist-packages (from sklearn-deap) (1.21.6)\n",
            "Requirement already satisfied: deap>=1.0.2 in /usr/local/lib/python3.7/dist-packages (from sklearn-deap) (1.3.3)\n",
            "Requirement already satisfied: scipy>=0.16.0 in /usr/local/lib/python3.7/dist-packages (from sklearn-deap) (1.7.3)\n",
            "Requirement already satisfied: joblib>=0.11 in /usr/local/lib/python3.7/dist-packages (from scikit-learn>=0.24.0->sklearn-deap) (1.1.0)\n",
            "Requirement already satisfied: threadpoolctl>=2.0.0 in /usr/local/lib/python3.7/dist-packages (from scikit-learn>=0.24.0->sklearn-deap) (3.1.0)\n"
          ]
        }
      ],
      "source": [
        "# instalando a biblioteca \"sklearn-deap\"\n",
        "!pip install sklearn-deap"
      ]
    },
    {
      "cell_type": "code",
      "execution_count": 59,
      "metadata": {
        "id": "xq-dtCN0ZYfv"
      },
      "outputs": [],
      "source": [
        "# importando a função \"EvolutionaryAlgorithmSearchCV\"\n",
        "from evolutionary_search import EvolutionaryAlgorithmSearchCV as ea"
      ]
    },
    {
      "cell_type": "code",
      "execution_count": 67,
      "metadata": {
        "colab": {
          "base_uri": "https://localhost:8080/"
        },
        "id": "ZW6eeyMJZYcp",
        "outputId": "93488955-5f89-48cb-e5d0-ee1edff97ff7"
      },
      "outputs": [
        {
          "output_type": "execute_result",
          "data": {
            "text/plain": [
              "36"
            ]
          },
          "metadata": {},
          "execution_count": 67
        }
      ],
      "source": [
        "# instanciando as camadas de neurônios\n",
        "s1 = [20, 50, 170, 300, 720, 1_000]\n",
        "s2 = [20, 50, 170, 300, 720, 1_000]\n",
        "\n",
        "# s1 = range(20, 10_000, 50)\n",
        "# s2 = range(20, 10_000, 50)\n",
        "\n",
        "# realizando um laço de repetição e salvando todas as combinações possíveis\n",
        "pairs_neurons= []\n",
        "for n1 in s1:\n",
        "    for n2 in s2:\n",
        "        pairs_neurons.append((n1, n2))\n",
        "\n",
        "len(pairs_neurons)"
      ]
    },
    {
      "cell_type": "code",
      "execution_count": 68,
      "metadata": {
        "id": "o-gGCoGkZYY_"
      },
      "outputs": [],
      "source": [
        "# instanciando um dicionário com os hiperparâmetros\n",
        "hyper_params = {\n",
        "    'hidden_layer_sizes': pairs_neurons,\n",
        "    'learning_rate_init': [0.001, 0.01, 0.1],\n",
        "    'max_iter': [2_000, 5_000],\n",
        "    'solver': ['adam', 'lbfgs'], # sgd, adam, lbfgs\n",
        "    'tol': [1e-7]\n",
        "}"
      ]
    },
    {
      "cell_type": "code",
      "execution_count": 69,
      "metadata": {
        "colab": {
          "base_uri": "https://localhost:8080/"
        },
        "id": "-rBv8ZUtZYWO",
        "outputId": "138263c0-91dc-42b6-aa5f-b1d534808985"
      },
      "outputs": [
        {
          "output_type": "execute_result",
          "data": {
            "text/plain": [
              "EvolutionaryAlgorithmSearchCV(cv=5, estimator=MLPRegressor(),\n",
              "                              generations_number=5, n_jobs=16,\n",
              "                              params={'hidden_layer_sizes': [(20, 20), (20, 50),\n",
              "                                                             (20, 170),\n",
              "                                                             (20, 300),\n",
              "                                                             (20, 720),\n",
              "                                                             (20, 1000),\n",
              "                                                             (50, 20), (50, 50),\n",
              "                                                             (50, 170),\n",
              "                                                             (50, 300),\n",
              "                                                             (50, 720),\n",
              "                                                             (50, 1000),\n",
              "                                                             (170, 20),\n",
              "                                                             (170, 50),\n",
              "                                                             (170, 170),\n",
              "                                                             (170, 300),\n",
              "                                                             (170, 720),\n",
              "                                                             (170, 1000),\n",
              "                                                             (300, 20),\n",
              "                                                             (300, 50),\n",
              "                                                             (300, 170),\n",
              "                                                             (300, 300),\n",
              "                                                             (300, 720),\n",
              "                                                             (300, 1000),\n",
              "                                                             (720, 20),\n",
              "                                                             (720, 50),\n",
              "                                                             (720, 170),\n",
              "                                                             (720, 300),\n",
              "                                                             (720, 720),\n",
              "                                                             (720, 1000), ...],\n",
              "                                      'learning_rate_init': [0.001, 0.01, 0.1],\n",
              "                                      'max_iter': [2000, 5000],\n",
              "                                      'solver': ['adam', 'lbfgs'],\n",
              "                                      'tol': [1e-07]},\n",
              "                              population_size=10, scoring='r2',\n",
              "                              tournament_size=2, verbose=2)"
            ]
          },
          "metadata": {},
          "execution_count": 69
        }
      ],
      "source": [
        "# instanciando o modelo de algoritmo genético\n",
        "alg_gen = ea(\n",
        "    estimator=MLPRegressor(),\n",
        "    params=hyper_params,\n",
        "    scoring='r2',\n",
        "    cv=5,\n",
        "    population_size=10,\n",
        "    generations_number=5,\n",
        "    gene_mutation_prob=0.1,\n",
        "    gene_crossover_prob=0.5,\n",
        "    tournament_size=2,\n",
        "    verbose=2,\n",
        "    n_jobs=16\n",
        ")\n",
        "\n",
        "# visualizando o modelo\n",
        "alg_gen"
      ]
    },
    {
      "cell_type": "code",
      "source": [
        "# visualizando a presença de valores nulos\n",
        "pd.DataFrame(Xtrain_normal).isna().sum()"
      ],
      "metadata": {
        "colab": {
          "base_uri": "https://localhost:8080/"
        },
        "id": "xTwVgs54RL7m",
        "outputId": "70a8797e-9114-4307-9bc0-8d229cbd128d"
      },
      "execution_count": 70,
      "outputs": [
        {
          "output_type": "execute_result",
          "data": {
            "text/plain": [
              "0    0\n",
              "1    0\n",
              "2    0\n",
              "3    0\n",
              "4    0\n",
              "dtype: int64"
            ]
          },
          "metadata": {},
          "execution_count": 70
        }
      ]
    },
    {
      "cell_type": "code",
      "execution_count": 71,
      "metadata": {
        "colab": {
          "base_uri": "https://localhost:8080/"
        },
        "id": "mGCFvvJ5VNFL",
        "outputId": "089159c3-bd75-457e-a76b-4cf6d4af1c68"
      },
      "outputs": [
        {
          "output_type": "stream",
          "name": "stdout",
          "text": [
            "Types [1, 2, 1, 1, 2] and maxint [35, 2, 1, 1, 0] detected\n",
            "--- Evolve in 432 possible combinations ---\n",
            "[CV] END hidden_layer_sizes=(50, 170), learning_rate_init=0.1, max_iter=5000, solver=adam, tol=1e-07; total time=   4.3s\n",
            "[CV] END hidden_layer_sizes=(50, 170), learning_rate_init=0.1, max_iter=5000, solver=adam, tol=1e-07; total time=   2.7s\n",
            "[CV] END hidden_layer_sizes=(50, 170), learning_rate_init=0.1, max_iter=5000, solver=adam, tol=1e-07; total time=   4.2s\n",
            "[CV] END hidden_layer_sizes=(50, 20), learning_rate_init=0.01, max_iter=2000, solver=adam, tol=1e-07; total time=  14.6s\n",
            "[CV] END hidden_layer_sizes=(50, 170), learning_rate_init=0.1, max_iter=5000, solver=adam, tol=1e-07; total time=   3.6s\n",
            "[CV] END hidden_layer_sizes=(50, 170), learning_rate_init=0.1, max_iter=5000, solver=adam, tol=1e-07; total time=   9.6s\n",
            "[CV] END hidden_layer_sizes=(170, 720), learning_rate_init=0.01, max_iter=5000, solver=adam, tol=1e-07; total time=  26.2s\n",
            "[CV] END hidden_layer_sizes=(50, 1000), learning_rate_init=0.01, max_iter=2000, solver=adam, tol=1e-07; total time=  27.1s\n",
            "[CV] END hidden_layer_sizes=(50, 20), learning_rate_init=0.01, max_iter=2000, solver=adam, tol=1e-07; total time=  13.2s\n",
            "[CV] END hidden_layer_sizes=(1000, 50), learning_rate_init=0.01, max_iter=2000, solver=adam, tol=1e-07; total time=  30.4s\n",
            "[CV] END hidden_layer_sizes=(50, 20), learning_rate_init=0.01, max_iter=2000, solver=adam, tol=1e-07; total time=   7.7s\n",
            "[CV] END hidden_layer_sizes=(20, 20), learning_rate_init=0.001, max_iter=5000, solver=lbfgs, tol=1e-07; total time=  37.4s\n",
            "[CV] END hidden_layer_sizes=(50, 20), learning_rate_init=0.01, max_iter=2000, solver=adam, tol=1e-07; total time=   8.4s\n",
            "[CV] END hidden_layer_sizes=(20, 20), learning_rate_init=0.001, max_iter=5000, solver=lbfgs, tol=1e-07; total time=  12.6s\n",
            "[CV] END hidden_layer_sizes=(50, 20), learning_rate_init=0.01, max_iter=2000, solver=adam, tol=1e-07; total time=   9.8s\n",
            "[CV] END hidden_layer_sizes=(1000, 50), learning_rate_init=0.01, max_iter=2000, solver=adam, tol=1e-07; total time=  27.0s\n",
            "[CV] END hidden_layer_sizes=(170, 720), learning_rate_init=0.01, max_iter=5000, solver=adam, tol=1e-07; total time=  32.4s\n",
            "[CV] END hidden_layer_sizes=(170, 720), learning_rate_init=0.01, max_iter=5000, solver=adam, tol=1e-07; total time=   2.9s\n",
            "[CV] END hidden_layer_sizes=(170, 1000), learning_rate_init=0.01, max_iter=5000, solver=adam, tol=1e-07; total time= 1.1min\n",
            "[CV] END hidden_layer_sizes=(50, 1000), learning_rate_init=0.01, max_iter=2000, solver=adam, tol=1e-07; total time=  43.0s\n",
            "[CV] END hidden_layer_sizes=(50, 1000), learning_rate_init=0.01, max_iter=2000, solver=adam, tol=1e-07; total time=   2.4s\n",
            "[CV] END hidden_layer_sizes=(1000, 50), learning_rate_init=0.01, max_iter=2000, solver=adam, tol=1e-07; total time=  26.2s\n",
            "[CV] END hidden_layer_sizes=(20, 20), learning_rate_init=0.001, max_iter=5000, solver=lbfgs, tol=1e-07; total time=  41.8s\n",
            "[CV] END hidden_layer_sizes=(170, 720), learning_rate_init=0.01, max_iter=5000, solver=adam, tol=1e-07; total time=  31.9s\n",
            "[CV] END hidden_layer_sizes=(170, 1000), learning_rate_init=0.01, max_iter=5000, solver=adam, tol=1e-07; total time=  36.7s\n",
            "[CV] END hidden_layer_sizes=(50, 1000), learning_rate_init=0.01, max_iter=2000, solver=adam, tol=1e-07; total time=  39.8s\n",
            "[CV] END hidden_layer_sizes=(1000, 50), learning_rate_init=0.01, max_iter=2000, solver=adam, tol=1e-07; total time=  31.1s\n",
            "[CV] END hidden_layer_sizes=(50, 1000), learning_rate_init=0.01, max_iter=2000, solver=adam, tol=1e-07; total time=   2.5s\n",
            "[CV] END hidden_layer_sizes=(170, 720), learning_rate_init=0.01, max_iter=5000, solver=adam, tol=1e-07; total time=  21.6s\n",
            "[CV] END hidden_layer_sizes=(20, 20), learning_rate_init=0.001, max_iter=5000, solver=lbfgs, tol=1e-07; total time=  25.1s\n",
            "[CV] END hidden_layer_sizes=(170, 1000), learning_rate_init=0.01, max_iter=5000, solver=adam, tol=1e-07; total time=  27.5s\n",
            "[CV] END hidden_layer_sizes=(20, 20), learning_rate_init=0.001, max_iter=5000, solver=lbfgs, tol=1e-07; total time=  16.2s\n",
            "[CV] END hidden_layer_sizes=(1000, 50), learning_rate_init=0.01, max_iter=2000, solver=adam, tol=1e-07; total time=  23.4s\n",
            "[CV] END hidden_layer_sizes=(170, 1000), learning_rate_init=0.01, max_iter=5000, solver=adam, tol=1e-07; total time=  25.3s\n",
            "[CV] END hidden_layer_sizes=(170, 1000), learning_rate_init=0.01, max_iter=5000, solver=adam, tol=1e-07; total time=   2.0s\n",
            "[CV] END hidden_layer_sizes=(1000, 20), learning_rate_init=0.001, max_iter=5000, solver=adam, tol=1e-07; total time= 2.7min\n",
            "[CV] END hidden_layer_sizes=(1000, 20), learning_rate_init=0.01, max_iter=5000, solver=lbfgs, tol=1e-07; total time= 3.2min\n",
            "[CV] END hidden_layer_sizes=(1000, 20), learning_rate_init=0.001, max_iter=5000, solver=adam, tol=1e-07; total time= 1.0min\n",
            "[CV] END hidden_layer_sizes=(1000, 20), learning_rate_init=0.01, max_iter=5000, solver=lbfgs, tol=1e-07; total time=  57.8s\n",
            "[CV] END hidden_layer_sizes=(1000, 20), learning_rate_init=0.001, max_iter=5000, solver=adam, tol=1e-07; total time= 1.2min\n",
            "[CV] END hidden_layer_sizes=(1000, 20), learning_rate_init=0.001, max_iter=5000, solver=adam, tol=1e-07; total time=  58.1s\n",
            "[CV] END hidden_layer_sizes=(1000, 20), learning_rate_init=0.01, max_iter=5000, solver=lbfgs, tol=1e-07; total time= 2.0min\n",
            "[CV] END hidden_layer_sizes=(1000, 20), learning_rate_init=0.001, max_iter=5000, solver=adam, tol=1e-07; total time= 1.0min\n",
            "[CV] END hidden_layer_sizes=(300, 1000), learning_rate_init=0.01, max_iter=5000, solver=lbfgs, tol=1e-07; total time= 7.1min\n",
            "[CV] END hidden_layer_sizes=(1000, 20), learning_rate_init=0.01, max_iter=5000, solver=lbfgs, tol=1e-07; total time= 1.2min\n",
            "[CV] END hidden_layer_sizes=(1000, 20), learning_rate_init=0.01, max_iter=5000, solver=lbfgs, tol=1e-07; total time=  59.4s\n",
            "[CV] END hidden_layer_sizes=(300, 1000), learning_rate_init=0.01, max_iter=5000, solver=lbfgs, tol=1e-07; total time= 2.8min\n",
            "[CV] END hidden_layer_sizes=(300, 1000), learning_rate_init=0.01, max_iter=5000, solver=lbfgs, tol=1e-07; total time= 2.9min\n",
            "[CV] END hidden_layer_sizes=(300, 1000), learning_rate_init=0.01, max_iter=5000, solver=lbfgs, tol=1e-07; total time= 2.3min\n",
            "[CV] END hidden_layer_sizes=(300, 1000), learning_rate_init=0.01, max_iter=5000, solver=lbfgs, tol=1e-07; total time= 1.7min\n",
            "gen\tnevals\tavg     \tmin       \tmax    \tstd     \n",
            "0  \t10    \t0.468092\t-0.0712966\t0.67633\t0.262088\n",
            "[CV] END hidden_layer_sizes=(170, 720), learning_rate_init=0.01, max_iter=5000, solver=adam, tol=1e-07; total time=   8.3s\n",
            "[CV] END hidden_layer_sizes=(170, 720), learning_rate_init=0.01, max_iter=5000, solver=adam, tol=1e-07; total time=  15.2s\n",
            "[CV] END hidden_layer_sizes=(170, 720), learning_rate_init=0.01, max_iter=5000, solver=adam, tol=1e-07; total time=   1.3s\n",
            "[CV] END hidden_layer_sizes=(170, 1000), learning_rate_init=0.01, max_iter=5000, solver=adam, tol=1e-07; total time=  26.4s\n",
            "[CV] END hidden_layer_sizes=(170, 720), learning_rate_init=0.01, max_iter=5000, solver=adam, tol=1e-07; total time=  10.6s\n",
            "[CV] END hidden_layer_sizes=(170, 1000), learning_rate_init=0.01, max_iter=5000, solver=adam, tol=1e-07; total time=  12.6s\n",
            "[CV] END hidden_layer_sizes=(170, 720), learning_rate_init=0.01, max_iter=5000, solver=adam, tol=1e-07; total time=   8.2s\n",
            "[CV] END hidden_layer_sizes=(170, 1000), learning_rate_init=0.01, max_iter=5000, solver=adam, tol=1e-07; total time=   9.9s\n",
            "[CV] END hidden_layer_sizes=(170, 1000), learning_rate_init=0.01, max_iter=5000, solver=adam, tol=1e-07; total time=  11.4s\n",
            "[CV] END hidden_layer_sizes=(170, 1000), learning_rate_init=0.01, max_iter=5000, solver=adam, tol=1e-07; total time=   1.0s\n",
            "[CV] END hidden_layer_sizes=(300, 1000), learning_rate_init=0.01, max_iter=5000, solver=lbfgs, tol=1e-07; total time= 2.4min\n",
            "[CV] END hidden_layer_sizes=(300, 1000), learning_rate_init=0.01, max_iter=5000, solver=lbfgs, tol=1e-07; total time= 2.1min\n",
            "[CV] END hidden_layer_sizes=(300, 1000), learning_rate_init=0.01, max_iter=5000, solver=lbfgs, tol=1e-07; total time= 2.9min\n",
            "[CV] END hidden_layer_sizes=(300, 1000), learning_rate_init=0.01, max_iter=5000, solver=lbfgs, tol=1e-07; total time= 2.2min\n",
            "[CV] END hidden_layer_sizes=(300, 1000), learning_rate_init=0.01, max_iter=5000, solver=lbfgs, tol=1e-07; total time= 1.7min\n",
            "1  \t3     \t0.540758\t0.149038  \t0.67633\t0.194466\n",
            "[CV] END hidden_layer_sizes=(50, 170), learning_rate_init=0.1, max_iter=5000, solver=adam, tol=1e-07; total time=   2.6s\n",
            "[CV] END hidden_layer_sizes=(50, 170), learning_rate_init=0.1, max_iter=5000, solver=adam, tol=1e-07; total time=   2.7s\n",
            "[CV] END hidden_layer_sizes=(50, 170), learning_rate_init=0.1, max_iter=5000, solver=adam, tol=1e-07; total time=   6.2s\n",
            "[CV] END hidden_layer_sizes=(50, 170), learning_rate_init=0.1, max_iter=5000, solver=adam, tol=1e-07; total time=   3.5s\n",
            "[CV] END hidden_layer_sizes=(170, 720), learning_rate_init=0.01, max_iter=5000, solver=adam, tol=1e-07; total time=  20.5s\n",
            "[CV] END hidden_layer_sizes=(50, 170), learning_rate_init=0.1, max_iter=5000, solver=adam, tol=1e-07; total time=   6.1s\n",
            "[CV] END hidden_layer_sizes=(1000, 50), learning_rate_init=0.01, max_iter=2000, solver=adam, tol=1e-07; total time=  25.1s\n",
            "[CV] END hidden_layer_sizes=(1000, 50), learning_rate_init=0.01, max_iter=2000, solver=adam, tol=1e-07; total time=  25.2s\n",
            "[CV] END hidden_layer_sizes=(1000, 50), learning_rate_init=0.01, max_iter=2000, solver=adam, tol=1e-07; total time=  25.2s\n",
            "[CV] END hidden_layer_sizes=(170, 720), learning_rate_init=0.01, max_iter=5000, solver=adam, tol=1e-07; total time=  15.4s\n",
            "[CV] END hidden_layer_sizes=(170, 1000), learning_rate_init=0.01, max_iter=5000, solver=adam, tol=1e-07; total time=  38.3s\n",
            "[CV] END hidden_layer_sizes=(1000, 50), learning_rate_init=0.01, max_iter=2000, solver=adam, tol=1e-07; total time=  18.2s\n",
            "[CV] END hidden_layer_sizes=(1000, 50), learning_rate_init=0.01, max_iter=2000, solver=adam, tol=1e-07; total time=  18.6s\n",
            "[CV] END hidden_layer_sizes=(1000, 50), learning_rate_init=0.01, max_iter=2000, solver=adam, tol=1e-07; total time=  18.8s\n",
            "[CV] END hidden_layer_sizes=(170, 720), learning_rate_init=0.01, max_iter=5000, solver=adam, tol=1e-07; total time=  21.2s\n",
            "[CV] END hidden_layer_sizes=(1000, 50), learning_rate_init=0.01, max_iter=2000, solver=adam, tol=1e-07; total time=  16.8s\n",
            "[CV] END hidden_layer_sizes=(1000, 50), learning_rate_init=0.01, max_iter=2000, solver=adam, tol=1e-07; total time=  16.8s\n",
            "[CV] END hidden_layer_sizes=(1000, 50), learning_rate_init=0.01, max_iter=2000, solver=adam, tol=1e-07; total time=  17.3s\n",
            "[CV] END hidden_layer_sizes=(170, 1000), learning_rate_init=0.01, max_iter=5000, solver=adam, tol=1e-07; total time=  35.4s\n",
            "[CV] END hidden_layer_sizes=(170, 720), learning_rate_init=0.01, max_iter=5000, solver=adam, tol=1e-07; total time=  22.8s\n",
            "[CV] END hidden_layer_sizes=(170, 720), learning_rate_init=0.01, max_iter=5000, solver=adam, tol=1e-07; total time=   2.1s\n",
            "[CV] END hidden_layer_sizes=(1000, 50), learning_rate_init=0.01, max_iter=2000, solver=adam, tol=1e-07; total time=  22.2s\n",
            "[CV] END hidden_layer_sizes=(1000, 50), learning_rate_init=0.01, max_iter=2000, solver=adam, tol=1e-07; total time=  21.3s\n",
            "[CV] END hidden_layer_sizes=(1000, 50), learning_rate_init=0.01, max_iter=2000, solver=adam, tol=1e-07; total time=  21.7s\n",
            "[CV] END hidden_layer_sizes=(170, 1000), learning_rate_init=0.01, max_iter=5000, solver=adam, tol=1e-07; total time=  24.6s\n",
            "[CV] END hidden_layer_sizes=(1000, 50), learning_rate_init=0.01, max_iter=2000, solver=adam, tol=1e-07; total time=  21.0s\n",
            "[CV] END hidden_layer_sizes=(1000, 50), learning_rate_init=0.01, max_iter=2000, solver=adam, tol=1e-07; total time=  21.3s\n",
            "[CV] END hidden_layer_sizes=(1000, 50), learning_rate_init=0.01, max_iter=2000, solver=adam, tol=1e-07; total time=  21.7s\n",
            "[CV] END hidden_layer_sizes=(170, 1000), learning_rate_init=0.01, max_iter=5000, solver=adam, tol=1e-07; total time=  15.2s\n",
            "[CV] END hidden_layer_sizes=(170, 1000), learning_rate_init=0.01, max_iter=5000, solver=adam, tol=1e-07; total time=  12.3s\n",
            "[CV] END hidden_layer_sizes=(170, 720), learning_rate_init=0.01, max_iter=5000, solver=lbfgs, tol=1e-07; total time= 2.6min\n",
            "[CV] END hidden_layer_sizes=(170, 720), learning_rate_init=0.01, max_iter=5000, solver=lbfgs, tol=1e-07; total time=  38.8s\n",
            "[CV] END hidden_layer_sizes=(170, 720), learning_rate_init=0.01, max_iter=5000, solver=lbfgs, tol=1e-07; total time= 1.3min\n",
            "[CV] END hidden_layer_sizes=(170, 720), learning_rate_init=0.01, max_iter=5000, solver=lbfgs, tol=1e-07; total time= 1.1min\n",
            "[CV] END hidden_layer_sizes=(170, 720), learning_rate_init=0.01, max_iter=5000, solver=lbfgs, tol=1e-07; total time=  43.9s\n",
            "2  \t7     \t0.595355\t0.190284  \t0.653971\t0.135921\n",
            "[CV] END hidden_layer_sizes=(50, 170), learning_rate_init=0.1, max_iter=5000, solver=adam, tol=1e-07; total time=   2.4s\n",
            "[CV] END hidden_layer_sizes=(50, 170), learning_rate_init=0.1, max_iter=5000, solver=adam, tol=1e-07; total time=   8.7s\n",
            "[CV] END hidden_layer_sizes=(50, 170), learning_rate_init=0.1, max_iter=5000, solver=adam, tol=1e-07; total time=  12.3s\n",
            "[CV] END hidden_layer_sizes=(50, 170), learning_rate_init=0.1, max_iter=5000, solver=adam, tol=1e-07; total time=   2.8s\n",
            "[CV] END hidden_layer_sizes=(50, 170), learning_rate_init=0.1, max_iter=5000, solver=adam, tol=1e-07; total time=   9.5s\n",
            "[CV] END hidden_layer_sizes=(50, 170), learning_rate_init=0.1, max_iter=5000, solver=adam, tol=1e-07; total time=   3.5s\n",
            "[CV] END hidden_layer_sizes=(50, 170), learning_rate_init=0.1, max_iter=5000, solver=adam, tol=1e-07; total time=   3.3s\n",
            "[CV] END hidden_layer_sizes=(50, 170), learning_rate_init=0.1, max_iter=5000, solver=adam, tol=1e-07; total time=   3.8s\n",
            "[CV] END hidden_layer_sizes=(1000, 50), learning_rate_init=0.01, max_iter=2000, solver=adam, tol=1e-07; total time=  25.1s\n",
            "[CV] END hidden_layer_sizes=(50, 170), learning_rate_init=0.1, max_iter=5000, solver=adam, tol=1e-07; total time=   5.3s\n",
            "[CV] END hidden_layer_sizes=(1000, 50), learning_rate_init=0.01, max_iter=5000, solver=adam, tol=1e-07; total time=  28.2s\n",
            "[CV] END hidden_layer_sizes=(50, 170), learning_rate_init=0.1, max_iter=5000, solver=adam, tol=1e-07; total time=   3.8s\n",
            "[CV] END hidden_layer_sizes=(170, 1000), learning_rate_init=0.01, max_iter=5000, solver=adam, tol=1e-07; total time=  30.9s\n",
            "[CV] END hidden_layer_sizes=(170, 720), learning_rate_init=0.01, max_iter=5000, solver=adam, tol=1e-07; total time=  32.8s\n",
            "[CV] END hidden_layer_sizes=(170, 1000), learning_rate_init=0.01, max_iter=2000, solver=adam, tol=1e-07; total time=  33.9s\n",
            "[CV] END hidden_layer_sizes=(1000, 50), learning_rate_init=0.01, max_iter=2000, solver=adam, tol=1e-07; total time=  35.0s\n",
            "[CV] END hidden_layer_sizes=(1000, 50), learning_rate_init=0.01, max_iter=5000, solver=adam, tol=1e-07; total time=  18.8s\n",
            "[CV] END hidden_layer_sizes=(1000, 50), learning_rate_init=0.01, max_iter=2000, solver=adam, tol=1e-07; total time=  24.0s\n",
            "[CV] END hidden_layer_sizes=(1000, 50), learning_rate_init=0.01, max_iter=2000, solver=adam, tol=1e-07; total time=  16.4s\n",
            "[CV] END hidden_layer_sizes=(170, 1000), learning_rate_init=0.01, max_iter=2000, solver=adam, tol=1e-07; total time=  21.5s\n",
            "[CV] END hidden_layer_sizes=(170, 720), learning_rate_init=0.01, max_iter=5000, solver=adam, tol=1e-07; total time=  25.7s\n",
            "[CV] END hidden_layer_sizes=(170, 1000), learning_rate_init=0.01, max_iter=5000, solver=adam, tol=1e-07; total time=  34.8s\n",
            "[CV] END hidden_layer_sizes=(1000, 50), learning_rate_init=0.01, max_iter=5000, solver=adam, tol=1e-07; total time=  18.8s\n",
            "[CV] END hidden_layer_sizes=(1000, 50), learning_rate_init=0.01, max_iter=2000, solver=adam, tol=1e-07; total time=  20.5s\n",
            "[CV] END hidden_layer_sizes=(1000, 50), learning_rate_init=0.01, max_iter=2000, solver=adam, tol=1e-07; total time=  21.9s\n",
            "[CV] END hidden_layer_sizes=(170, 1000), learning_rate_init=0.01, max_iter=2000, solver=adam, tol=1e-07; total time=  22.0s\n",
            "[CV] END hidden_layer_sizes=(170, 720), learning_rate_init=0.01, max_iter=5000, solver=adam, tol=1e-07; total time=  26.9s\n",
            "[CV] END hidden_layer_sizes=(1000, 50), learning_rate_init=0.01, max_iter=5000, solver=adam, tol=1e-07; total time=  20.0s\n",
            "[CV] END hidden_layer_sizes=(1000, 50), learning_rate_init=0.01, max_iter=2000, solver=adam, tol=1e-07; total time=  13.3s\n",
            "[CV] END hidden_layer_sizes=(1000, 50), learning_rate_init=0.01, max_iter=2000, solver=adam, tol=1e-07; total time=  19.2s\n",
            "[CV] END hidden_layer_sizes=(170, 1000), learning_rate_init=0.01, max_iter=5000, solver=adam, tol=1e-07; total time=  24.9s\n",
            "[CV] END hidden_layer_sizes=(1000, 50), learning_rate_init=0.01, max_iter=2000, solver=adam, tol=1e-07; total time=   2.1s\n",
            "[CV] END hidden_layer_sizes=(170, 1000), learning_rate_init=0.01, max_iter=2000, solver=adam, tol=1e-07; total time=  22.9s\n",
            "[CV] END hidden_layer_sizes=(1000, 50), learning_rate_init=0.01, max_iter=2000, solver=adam, tol=1e-07; total time=  18.8s\n",
            "[CV] END hidden_layer_sizes=(1000, 50), learning_rate_init=0.01, max_iter=5000, solver=adam, tol=1e-07; total time=  19.6s\n",
            "[CV] END hidden_layer_sizes=(170, 720), learning_rate_init=0.01, max_iter=5000, solver=adam, tol=1e-07; total time=  20.8s\n",
            "[CV] END hidden_layer_sizes=(170, 1000), learning_rate_init=0.01, max_iter=5000, solver=adam, tol=1e-07; total time=  24.1s\n",
            "[CV] END hidden_layer_sizes=(170, 720), learning_rate_init=0.01, max_iter=5000, solver=adam, tol=1e-07; total time=  13.5s\n",
            "[CV] END hidden_layer_sizes=(170, 1000), learning_rate_init=0.01, max_iter=2000, solver=adam, tol=1e-07; total time=  20.4s\n",
            "[CV] END hidden_layer_sizes=(170, 1000), learning_rate_init=0.01, max_iter=5000, solver=adam, tol=1e-07; total time=  10.0s\n",
            "3  \t8     \t0.6429  \t0.584135  \t0.675664\t0.0254134\n",
            "[CV] END hidden_layer_sizes=(50, 170), learning_rate_init=0.01, max_iter=5000, solver=adam, tol=1e-07; total time=  13.9s\n",
            "[CV] END hidden_layer_sizes=(50, 170), learning_rate_init=0.01, max_iter=5000, solver=adam, tol=1e-07; total time=  14.7s\n",
            "[CV] END hidden_layer_sizes=(170, 1000), learning_rate_init=0.1, max_iter=5000, solver=adam, tol=1e-07; total time=  22.8s\n",
            "[CV] END hidden_layer_sizes=(170, 1000), learning_rate_init=0.1, max_iter=5000, solver=adam, tol=1e-07; total time=   1.9s\n",
            "[CV] END hidden_layer_sizes=(1000, 50), learning_rate_init=0.01, max_iter=2000, solver=adam, tol=1e-07; total time=  27.4s\n",
            "[CV] END hidden_layer_sizes=(50, 170), learning_rate_init=0.01, max_iter=5000, solver=adam, tol=1e-07; total time=  13.2s\n",
            "[CV] END hidden_layer_sizes=(170, 1000), learning_rate_init=0.01, max_iter=5000, solver=adam, tol=1e-07; total time=  28.8s\n",
            "[CV] END hidden_layer_sizes=(1000, 50), learning_rate_init=0.01, max_iter=5000, solver=adam, tol=1e-07; total time=  29.0s[CV] END hidden_layer_sizes=(1000, 50), learning_rate_init=0.01, max_iter=5000, solver=adam, tol=1e-07; total time=  29.0s\n",
            "\n",
            "[CV] END hidden_layer_sizes=(50, 170), learning_rate_init=0.01, max_iter=5000, solver=adam, tol=1e-07; total time=  16.3s\n",
            "[CV] END hidden_layer_sizes=(170, 1000), learning_rate_init=0.01, max_iter=5000, solver=adam, tol=1e-07; total time=  33.3s\n",
            "[CV] END hidden_layer_sizes=(50, 170), learning_rate_init=0.01, max_iter=5000, solver=adam, tol=1e-07; total time=  10.7s\n",
            "[CV] END hidden_layer_sizes=(50, 170), learning_rate_init=0.01, max_iter=5000, solver=adam, tol=1e-07; total time=  15.6s\n",
            "[CV] END hidden_layer_sizes=(170, 1000), learning_rate_init=0.1, max_iter=5000, solver=adam, tol=1e-07; total time=  20.1s\n",
            "[CV] END hidden_layer_sizes=(170, 1000), learning_rate_init=0.1, max_iter=5000, solver=adam, tol=1e-07; total time=   1.8s\n",
            "[CV] END hidden_layer_sizes=(170, 1000), learning_rate_init=0.1, max_iter=5000, solver=adam, tol=1e-07; total time=   1.8s\n",
            "[CV] END hidden_layer_sizes=(50, 170), learning_rate_init=0.01, max_iter=5000, solver=adam, tol=1e-07; total time=  10.8s\n",
            "[CV] END hidden_layer_sizes=(1000, 50), learning_rate_init=0.01, max_iter=2000, solver=adam, tol=1e-07; total time=  26.9s\n",
            "[CV] END hidden_layer_sizes=(1000, 50), learning_rate_init=0.01, max_iter=5000, solver=adam, tol=1e-07; total time=  26.2s\n",
            "[CV] END hidden_layer_sizes=(1000, 50), learning_rate_init=0.01, max_iter=2000, solver=adam, tol=1e-07; total time=   2.3s\n",
            "[CV] END hidden_layer_sizes=(50, 170), learning_rate_init=0.01, max_iter=5000, solver=adam, tol=1e-07; total time=  13.6s\n",
            "[CV] END hidden_layer_sizes=(50, 170), learning_rate_init=0.01, max_iter=5000, solver=adam, tol=1e-07; total time=   6.2s\n",
            "[CV] END hidden_layer_sizes=(1000, 50), learning_rate_init=0.01, max_iter=5000, solver=adam, tol=1e-07; total time=  30.1s\n",
            "[CV] END hidden_layer_sizes=(50, 170), learning_rate_init=0.01, max_iter=5000, solver=adam, tol=1e-07; total time=  11.8s\n",
            "[CV] END hidden_layer_sizes=(170, 1000), learning_rate_init=0.01, max_iter=5000, solver=adam, tol=1e-07; total time=  41.1s\n",
            "[CV] END hidden_layer_sizes=(1000, 50), learning_rate_init=0.01, max_iter=2000, solver=adam, tol=1e-07; total time=  16.7s\n",
            "[CV] END hidden_layer_sizes=(1000, 50), learning_rate_init=0.01, max_iter=5000, solver=adam, tol=1e-07; total time=  15.5s\n",
            "[CV] END hidden_layer_sizes=(1000, 50), learning_rate_init=0.01, max_iter=5000, solver=adam, tol=1e-07; total time=  24.6s\n",
            "[CV] END hidden_layer_sizes=(170, 1000), learning_rate_init=0.01, max_iter=5000, solver=adam, tol=1e-07; total time=  53.6s\n",
            "[CV] END hidden_layer_sizes=(1000, 50), learning_rate_init=0.01, max_iter=2000, solver=adam, tol=1e-07; total time=  16.5s\n",
            "[CV] END hidden_layer_sizes=(170, 1000), learning_rate_init=0.01, max_iter=5000, solver=adam, tol=1e-07; total time=  23.1s\n",
            "[CV] END hidden_layer_sizes=(1000, 50), learning_rate_init=0.01, max_iter=5000, solver=adam, tol=1e-07; total time=  19.2s\n",
            "[CV] END hidden_layer_sizes=(1000, 50), learning_rate_init=0.01, max_iter=5000, solver=adam, tol=1e-07; total time=  14.7s\n",
            "[CV] END hidden_layer_sizes=(1000, 50), learning_rate_init=0.01, max_iter=5000, solver=adam, tol=1e-07; total time=  12.2s\n",
            "[CV] END hidden_layer_sizes=(1000, 50), learning_rate_init=0.01, max_iter=5000, solver=adam, tol=1e-07; total time=  15.5s\n",
            "[CV] END hidden_layer_sizes=(170, 1000), learning_rate_init=0.01, max_iter=5000, solver=adam, tol=1e-07; total time=  23.6s\n",
            "[CV] END hidden_layer_sizes=(170, 1000), learning_rate_init=0.01, max_iter=5000, solver=adam, tol=1e-07; total time=  17.9s\n",
            "[CV] END hidden_layer_sizes=(170, 1000), learning_rate_init=0.01, max_iter=5000, solver=adam, tol=1e-07; total time=  11.2s\n",
            "[CV] END hidden_layer_sizes=(170, 1000), learning_rate_init=0.01, max_iter=5000, solver=adam, tol=1e-07; total time=   0.9s\n",
            "[CV] END hidden_layer_sizes=(170, 1000), learning_rate_init=0.01, max_iter=5000, solver=adam, tol=1e-07; total time=  12.1s\n",
            "4  \t8     \t0.458878\t-1.21088  \t0.675664\t0.557234 \n",
            "[CV] END hidden_layer_sizes=(170, 1000), learning_rate_init=0.1, max_iter=5000, solver=adam, tol=1e-07; total time=  10.3s\n",
            "[CV] END hidden_layer_sizes=(170, 1000), learning_rate_init=0.1, max_iter=5000, solver=adam, tol=1e-07; total time=   2.4s\n",
            "[CV] END hidden_layer_sizes=(170, 1000), learning_rate_init=0.1, max_iter=5000, solver=adam, tol=1e-07; total time=   2.3s\n",
            "[CV] END hidden_layer_sizes=(170, 1000), learning_rate_init=0.1, max_iter=5000, solver=adam, tol=1e-07; total time=   2.3s\n",
            "[CV] END hidden_layer_sizes=(50, 170), learning_rate_init=0.01, max_iter=5000, solver=adam, tol=1e-07; total time=  18.8s\n",
            "[CV] END hidden_layer_sizes=(1000, 50), learning_rate_init=0.01, max_iter=5000, solver=adam, tol=1e-07; total time=  27.6s\n",
            "[CV] END hidden_layer_sizes=(1000, 50), learning_rate_init=0.01, max_iter=5000, solver=adam, tol=1e-07; total time=  34.8s\n",
            "[CV] END hidden_layer_sizes=(170, 1000), learning_rate_init=0.01, max_iter=5000, solver=adam, tol=1e-07; total time=  35.3s\n",
            "[CV] END hidden_layer_sizes=(50, 170), learning_rate_init=0.01, max_iter=5000, solver=adam, tol=1e-07; total time=  18.0s\n",
            "[CV] END hidden_layer_sizes=(170, 1000), learning_rate_init=0.01, max_iter=5000, solver=adam, tol=1e-07; total time=   4.8s\n",
            "[CV] END hidden_layer_sizes=(1000, 50), learning_rate_init=0.01, max_iter=2000, solver=adam, tol=1e-07; total time=  40.4s\n",
            "[CV] END hidden_layer_sizes=(170, 1000), learning_rate_init=0.01, max_iter=5000, solver=adam, tol=1e-07; total time=  40.9s\n",
            "[CV] END hidden_layer_sizes=(1000, 50), learning_rate_init=0.01, max_iter=5000, solver=adam, tol=1e-07; total time=  44.0s\n",
            "[CV] END hidden_layer_sizes=(170, 1000), learning_rate_init=0.01, max_iter=5000, solver=adam, tol=1e-07; total time=  46.1s\n",
            "[CV] END hidden_layer_sizes=(170, 1000), learning_rate_init=0.1, max_iter=5000, solver=adam, tol=1e-07; total time=  30.0s\n",
            "[CV] END hidden_layer_sizes=(50, 170), learning_rate_init=0.01, max_iter=5000, solver=adam, tol=1e-07; total time=  21.3s\n",
            "[CV] END hidden_layer_sizes=(170, 1000), learning_rate_init=0.01, max_iter=5000, solver=adam, tol=1e-07; total time= 1.0min\n",
            "[CV] END hidden_layer_sizes=(1000, 50), learning_rate_init=0.01, max_iter=5000, solver=adam, tol=1e-07; total time=  36.4s\n",
            "[CV] END hidden_layer_sizes=(1000, 50), learning_rate_init=0.01, max_iter=5000, solver=adam, tol=1e-07; total time=  34.0s\n",
            "[CV] END hidden_layer_sizes=(50, 170), learning_rate_init=0.01, max_iter=5000, solver=adam, tol=1e-07; total time=  12.6s\n",
            "[CV] END hidden_layer_sizes=(1000, 50), learning_rate_init=0.01, max_iter=2000, solver=adam, tol=1e-07; total time=  39.0s\n",
            "[CV] END hidden_layer_sizes=(1000, 50), learning_rate_init=0.01, max_iter=5000, solver=adam, tol=1e-07; total time=  36.9s\n",
            "[CV] END hidden_layer_sizes=(50, 170), learning_rate_init=0.01, max_iter=5000, solver=adam, tol=1e-07; total time=  17.2s\n",
            "[CV] END hidden_layer_sizes=(170, 1000), learning_rate_init=0.01, max_iter=5000, solver=adam, tol=1e-07; total time=  48.7s\n",
            "[CV] END hidden_layer_sizes=(170, 1000), learning_rate_init=0.01, max_iter=5000, solver=adam, tol=1e-07; total time=  49.6s\n",
            "[CV] END hidden_layer_sizes=(1000, 50), learning_rate_init=0.01, max_iter=5000, solver=adam, tol=1e-07; total time=  22.8s\n",
            "[CV] END hidden_layer_sizes=(1000, 50), learning_rate_init=0.01, max_iter=5000, solver=adam, tol=1e-07; total time=  30.5s\n",
            "[CV] END hidden_layer_sizes=(1000, 50), learning_rate_init=0.01, max_iter=5000, solver=adam, tol=1e-07; total time=  17.0s\n",
            "[CV] END hidden_layer_sizes=(170, 1000), learning_rate_init=0.01, max_iter=5000, solver=adam, tol=1e-07; total time=  52.9s\n",
            "[CV] END hidden_layer_sizes=(170, 1000), learning_rate_init=0.01, max_iter=5000, solver=adam, tol=1e-07; total time=  41.5s\n",
            "[CV] END hidden_layer_sizes=(1000, 50), learning_rate_init=0.01, max_iter=2000, solver=adam, tol=1e-07; total time=  36.3s\n",
            "[CV] END hidden_layer_sizes=(1000, 50), learning_rate_init=0.01, max_iter=5000, solver=adam, tol=1e-07; total time=  26.0s\n",
            "[CV] END hidden_layer_sizes=(170, 1000), learning_rate_init=0.01, max_iter=5000, solver=adam, tol=1e-07; total time=  33.6s\n",
            "[CV] END hidden_layer_sizes=(1000, 50), learning_rate_init=0.01, max_iter=5000, solver=adam, tol=1e-07; total time=  37.9s\n",
            "[CV] END hidden_layer_sizes=(1000, 50), learning_rate_init=0.01, max_iter=5000, solver=adam, tol=1e-07; total time=  35.8s\n",
            "[CV] END hidden_layer_sizes=(170, 1000), learning_rate_init=0.01, max_iter=5000, solver=adam, tol=1e-07; total time=  38.9s\n",
            "[CV] END hidden_layer_sizes=(170, 1000), learning_rate_init=0.01, max_iter=5000, solver=adam, tol=1e-07; total time=  36.8s\n",
            "[CV] END hidden_layer_sizes=(170, 1000), learning_rate_init=0.01, max_iter=5000, solver=adam, tol=1e-07; total time=  53.6s\n",
            "[CV] END hidden_layer_sizes=(1000, 50), learning_rate_init=0.01, max_iter=2000, solver=adam, tol=1e-07; total time=  30.0s\n",
            "[CV] END hidden_layer_sizes=(1000, 50), learning_rate_init=0.01, max_iter=5000, solver=adam, tol=1e-07; total time=  32.0s\n",
            "[CV] END hidden_layer_sizes=(1000, 50), learning_rate_init=0.01, max_iter=5000, solver=adam, tol=1e-07; total time=  26.9s\n",
            "[CV] END hidden_layer_sizes=(1000, 50), learning_rate_init=0.01, max_iter=5000, solver=adam, tol=1e-07; total time=  29.1s\n",
            "[CV] END hidden_layer_sizes=(170, 1000), learning_rate_init=0.01, max_iter=5000, solver=adam, tol=1e-07; total time=  39.9s\n",
            "[CV] END hidden_layer_sizes=(1000, 50), learning_rate_init=0.01, max_iter=2000, solver=adam, tol=1e-07; total time=  26.1s\n",
            "[CV] END hidden_layer_sizes=(170, 1000), learning_rate_init=0.01, max_iter=5000, solver=adam, tol=1e-07; total time=  33.0s\n",
            "[CV] END hidden_layer_sizes=(170, 1000), learning_rate_init=0.01, max_iter=5000, solver=adam, tol=1e-07; total time=  35.8s\n",
            "[CV] END hidden_layer_sizes=(170, 1000), learning_rate_init=0.01, max_iter=5000, solver=adam, tol=1e-07; total time=  31.2s\n",
            "[CV] END hidden_layer_sizes=(170, 1000), learning_rate_init=0.01, max_iter=5000, solver=adam, tol=1e-07; total time=   1.4s\n",
            "[CV] END hidden_layer_sizes=(170, 1000), learning_rate_init=0.01, max_iter=5000, solver=adam, tol=1e-07; total time=   9.7s\n",
            "[CV] END hidden_layer_sizes=(170, 1000), learning_rate_init=0.01, max_iter=5000, solver=adam, tol=1e-07; total time=   9.4s\n",
            "5  \t10    \t0.413835\t-1.58686  \t0.668139\t0.667254 \n",
            "Best individual is: {'hidden_layer_sizes': (170, 720), 'learning_rate_init': 0.01, 'max_iter': 5000, 'solver': 'adam', 'tol': 1e-07}\n",
            "with fitness: 0.67633013311996\n"
          ]
        }
      ],
      "source": [
        "# treinando o modelo\n",
        "alg_gen.fit(Xtrain_normal, yTrain)"
      ]
    },
    {
      "cell_type": "code",
      "execution_count": 72,
      "metadata": {
        "colab": {
          "base_uri": "https://localhost:8080/"
        },
        "id": "rZX6ViNwgs2T",
        "outputId": "b386d770-0865-4f99-d440-fa3de7f6d839"
      },
      "outputs": [
        {
          "output_type": "execute_result",
          "data": {
            "text/plain": [
              "MLPRegressor(hidden_layer_sizes=(170, 720), learning_rate_init=0.01,\n",
              "             max_iter=5000, tol=1e-07)"
            ]
          },
          "metadata": {},
          "execution_count": 72
        }
      ],
      "source": [
        "# visualizando os melhores hiperparâmetros\n",
        "alg_gen.best_estimator_"
      ]
    },
    {
      "cell_type": "code",
      "execution_count": 73,
      "metadata": {
        "colab": {
          "base_uri": "https://localhost:8080/"
        },
        "id": "P3x83STmVNCz",
        "outputId": "f2543d35-92ad-48d6-d252-50a0496d53b3"
      },
      "outputs": [
        {
          "output_type": "execute_result",
          "data": {
            "text/plain": [
              "MLPRegressor(hidden_layer_sizes=(170, 720), learning_rate_init=0.01,\n",
              "             max_iter=5000, tol=1e-07)"
            ]
          },
          "metadata": {},
          "execution_count": 73
        }
      ],
      "source": [
        "# instanciando os melhores hiperparâmetros no objeto \"best_params\"\n",
        "best_params = alg_gen.best_estimator_\n",
        "best_params     # visualizando o conteúdo do objeto"
      ]
    },
    {
      "cell_type": "code",
      "execution_count": 74,
      "metadata": {
        "id": "bO7LBUigVNBS"
      },
      "outputs": [],
      "source": [
        "# realizando a predição com o objeto \"best_params\"\n",
        "y_pred = best_params.predict(Xtest_normal)"
      ]
    },
    {
      "cell_type": "code",
      "execution_count": 78,
      "metadata": {
        "colab": {
          "base_uri": "https://localhost:8080/",
          "height": 479
        },
        "id": "QiPqh8qNVM-r",
        "outputId": "342458b3-c703-4f35-9a08-8a81a5a80216"
      },
      "outputs": [
        {
          "output_type": "display_data",
          "data": {
            "text/plain": [
              "<Figure size 792x504 with 1 Axes>"
            ],
            "image/png": "[encoded data removed]"
          },
          "metadata": {}
        }
      ],
      "source": [
        "# plotando o gráfico\n",
        "# Xtest = scaling.inverse_transform(Xtest_normal)\n",
        "\n",
        "plt.figure(figsize=(11, 7))\n",
        "\n",
        "plt.scatter(Xtest, yTest, alpha=0.5, label='real data')\n",
        "plt.scatter(Xtest, y_pred, alpha=0.5, label='ann prediction')\n",
        "plt.xlabel('peso (kg)')\n",
        "plt.ylabel('autonomia (km/l)')\n",
        "plt.title('Comparação do modelo RNA VS dados reais\\n')\n",
        "plt.legend(loc='upper right')\n",
        "plt.show()"
      ]
    },
    {
      "cell_type": "code",
      "execution_count": null,
      "metadata": {
        "id": "de5rwyM9VM6N"
      },
      "outputs": [],
      "source": [
        ""
      ]
    },
    {
      "cell_type": "code",
      "execution_count": null,
      "metadata": {
        "id": "8U3VKuyKryto"
      },
      "outputs": [],
      "source": [
        ""
      ]
    }
  ],
  "metadata": {
    "accelerator": "GPU",
    "colab": {
      "collapsed_sections": [],
      "name": "RNA VS Regressão linear.ipynb",
      "provenance": [],
      "authorship_tag": "ABX9TyPWzci9FpsHdo31G1r9G7Gq",
      "include_colab_link": true
    },
    "gpuClass": "standard",
    "kernelspec": {
      "display_name": "Python 3",
      "name": "python3"
    },
    "language_info": {
      "name": "python"
    }
  },
  "nbformat": 4,
  "nbformat_minor": 0
}